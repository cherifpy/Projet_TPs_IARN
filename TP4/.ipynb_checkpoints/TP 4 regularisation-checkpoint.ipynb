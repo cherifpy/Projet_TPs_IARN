{
 "cells": [
  {
   "cell_type": "markdown",
   "metadata": {},
   "source": [
    "# TP 4 Regression logistique avec régularisation\n",
    "Dans ce TP, nous aimerions faire une classification binaire en utilisant la régression.\n",
    "\n",
    "Pour ce faire, nous étudierons un ensemble de données avec la variable  (y) representant la commercialisation d'un profuit et les caractéristiques (X) representant les résultat des tests de qualité test 1 et test 2 du produit.\n",
    "\n",
    "La prédiction se fera avec l'agorithme de descente du gradient avec régularisation."
   ]
  },
  {
   "cell_type": "markdown",
   "metadata": {},
   "source": [
    "## Noms du QUADRINÔME:\n",
    "\n",
    "- SI MOHAMMED Cherif 181831018892\n",
    "- HAMMAZ Massinissa 181831015896\n",
    "- SADOUDI Brahim 181831013058\n",
    "- SADADOU Mohamed 1818330128"
   ]
  },
  {
   "cell_type": "markdown",
   "metadata": {},
   "source": [
    "# Importation des librairies necessaires au travail"
   ]
  },
  {
   "cell_type": "code",
   "execution_count": 1,
   "metadata": {},
   "outputs": [],
   "source": [
    "import numpy as np\n",
    "import matplotlib.pyplot as plt\n"
   ]
  },
  {
   "cell_type": "markdown",
   "metadata": {},
   "source": [
    "# Lecture des fichiers de données\n",
    "Pour ce TP, nous allons lire les données à partir d'un fichier csv."
   ]
  },
  {
   "cell_type": "code",
   "execution_count": 2,
   "metadata": {},
   "outputs": [
    {
     "name": "stdout",
     "output_type": "stream",
     "text": [
      "(118, 3)\n",
      "[[ 0.051267  0.69956   1.      ]\n",
      " [-0.092742  0.68494   1.      ]\n",
      " [-0.21371   0.69225   1.      ]\n",
      " [-0.375     0.50219   1.      ]\n",
      " [-0.51325   0.46564   1.      ]]\n"
     ]
    }
   ],
   "source": [
    "# données\n",
    "data = np.genfromtxt('data.csv', delimiter=',', dtype=float)\n",
    "print(data.shape)\n",
    "print(data[:5])"
   ]
  },
  {
   "cell_type": "markdown",
   "metadata": {},
   "source": [
    "Dans ces données (data), la première colonne represente la première note, la deuxieme colonne la deuxième note et la troisième colonne represente la commercialisation (1 oui 0 non).\n",
    "\n",
    "Chaque ligne represente un exemple de notre ensemble de données. \n",
    "\n",
    "Mettons ces données dans leus vecteurs correspondants."
   ]
  },
  {
   "cell_type": "code",
   "execution_count": 3,
   "metadata": {},
   "outputs": [],
   "source": [
    "# rajoutons l'ordonnée à l'origine theta 0\n",
    "intercept=np.ones((data.shape[0],1))\n",
    "X=np.column_stack((intercept,data[:,0:2]))\n",
    "y = data[:, 2];\n",
    "# forcer y à avoir une seule colonne\n",
    "y = y.reshape( y.shape[0], 1)"
   ]
  },
  {
   "cell_type": "code",
   "execution_count": 4,
   "metadata": {},
   "outputs": [
    {
     "name": "stdout",
     "output_type": "stream",
     "text": [
      "X (118, 3)  y  (118, 1)\n"
     ]
    }
   ],
   "source": [
    "print('X', X.shape ,' y ', y.shape)"
   ]
  },
  {
   "cell_type": "markdown",
   "metadata": {},
   "source": [
    "# Transformation de données\n",
    "Dans cette partie, nous aimerions transformer nos données afin d'avoir une fonction polynomiale de degrée 6.\n",
    "\n",
    "La fonction sera:\n",
    "\n",
    "$x_0=1$\n",
    "\n",
    "$x_1=x_1$\n",
    "\n",
    "$x_2=x_2$\n",
    "\n",
    "$x_3={x_1}^2$\n",
    "\n",
    "$x_4={x_1}x_2$\n",
    "\n",
    "$x_5={x_2}^2$\n",
    "\n",
    "$x_6={x_1}^3$\n",
    "\n",
    "$x_7={x_1}^2 x_2$\n",
    "\n",
    "$x_8= x_1 {x_2}^2$\n",
    "\n",
    "$x_9= {x_2}^3$\n",
    "\n",
    "...\n"
   ]
  },
  {
   "cell_type": "markdown",
   "metadata": {},
   "source": [
    "Pour un polynme de degrée 6 à 2 variables nous aurons 28 caracteristiques\n",
    "\n",
    "**Question**: comment avons nous trouvé ce chiffre?\n",
    "\n",
    "**Astuce**: référez vous aux probabilités"
   ]
  },
  {
   "cell_type": "markdown",
   "metadata": {},
   "source": [
    "Si on calcule la somme des nombre de caracteristique qu'on va obtenire en utilisent les 2 variables pour chaque degres on obtien 28\n",
    "par exemple pour le degres 3 on a:\n",
    "- ${x_1}³{x_2}⁰$\n",
    "- ${x_1}²{x_2}¹$\n",
    "- ${x_1}¹{x_2}²$\n",
    "- ${x_1}⁰{x_2}³$\n",
    "\n",
    "on a 4 combinaisons\n",
    "\n",
    "on est entrain de calculer le nombre de combinaisons dans le samme des puissance egale a un degres K.\n",
    "p(k) = p(4) = 4*1 (4 parceque on a la possiblilité entre [${{x_1}³,{x_1}²,{x_1}¹,{x_1}⁰}$] est pour chaque element de cet ensemble il existe un seul cas dans [${{x_2}³,{x_2}²,{x_2}¹,{x_2}⁰}$] qui on peut avoir le degres 4)\n",
    "\n",
    "on applique la meme chose pour chaque degres de 0 a 6 puis on fais la somme\n",
    "on obtient nb_caracteristique = 7+6+4+3+2+1 = 28"
   ]
  },
  {
   "cell_type": "code",
   "execution_count": 5,
   "metadata": {},
   "outputs": [],
   "source": [
    "def mapping(X):\n",
    "    \n",
    "    cols = 28\n",
    "    degree=7\n",
    "    outX= np.ones((X.shape[0],cols))\n",
    "    X1=X[:,1]\n",
    "    X2=X[:,2]\n",
    "    k=0\n",
    "    for i in range(degree):\n",
    "        for j in range(i+1):\n",
    "            outX[:, k] = np.power(X1,i-j)*(np.power(X2,j));\n",
    "            k=k+1\n",
    "    return outX    \n"
   ]
  },
  {
   "cell_type": "code",
   "execution_count": 13,
   "metadata": {},
   "outputs": [
    {
     "name": "stdout",
     "output_type": "stream",
     "text": [
      "(118, 28)\n",
      "[[ 1.00000000e+00  5.12670000e-02  6.99560000e-01  2.62830529e-03\n",
      "   3.58643425e-02  4.89384194e-01  1.34745327e-04  1.83865725e-03\n",
      "   2.50892595e-02  3.42353606e-01  6.90798869e-06  9.42624411e-05\n",
      "   1.28625106e-03  1.75514423e-02  2.39496889e-01  3.54151856e-07\n",
      "   4.83255257e-06  6.59422333e-05  8.99809795e-04  1.22782870e-02\n",
      "   1.67542444e-01  1.81563032e-08  2.47750473e-07  3.38066048e-06\n",
      "   4.61305487e-05  6.29470940e-04  8.58939846e-03  1.17205992e-01]\n",
      " [ 1.00000000e+00 -9.27420000e-02  6.84940000e-01  8.60107856e-03\n",
      "  -6.35227055e-02  4.69142804e-01 -7.97681228e-04  5.89122275e-03\n",
      "  -4.35092419e-02  3.21334672e-01  7.39785525e-05 -5.46363780e-04\n",
      "   4.03513411e-03 -2.98012201e-02  2.20094970e-01 -6.86091891e-06\n",
      "   5.06708697e-05 -3.74226408e-04  2.76382476e-03 -2.04120477e-02\n",
      "   1.50751849e-01  6.36295342e-07 -4.69931780e-06  3.47065055e-05\n",
      "  -2.56322636e-04  1.89305413e-03 -1.39810280e-02  1.03255971e-01]\n",
      " [ 1.00000000e+00 -2.13710000e-01  6.92250000e-01  4.56719641e-02\n",
      "  -1.47940748e-01  4.79210063e-01 -9.76055545e-03  3.16164171e-02\n",
      "  -1.02411982e-01  3.31733166e-01  2.08592830e-03 -6.75674451e-03\n",
      "   2.18864648e-02 -7.08946949e-02  2.29642284e-01 -4.45783738e-04\n",
      "   1.44398387e-03 -4.67735639e-03  1.51509052e-02 -4.90768525e-02\n",
      "   1.58969871e-01  9.52684426e-05 -3.08593793e-04  9.99597833e-04\n",
      "  -3.23789996e-03  1.04882142e-02 -3.39734512e-02  1.10046893e-01]\n",
      " [ 1.00000000e+00 -3.75000000e-01  5.02190000e-01  1.40625000e-01\n",
      "  -1.88321250e-01  2.52194796e-01 -5.27343750e-02  7.06204687e-02\n",
      "  -9.45730485e-02  1.26649705e-01  1.97753906e-02 -2.64826758e-02\n",
      "   3.54648932e-02 -4.74936392e-02  6.36022152e-02 -7.41577148e-03\n",
      "   9.93100342e-03 -1.32993350e-02  1.78101147e-02 -2.38508307e-02\n",
      "   3.19403964e-02  2.78091431e-03 -3.72412628e-03  4.98725061e-03\n",
      "  -6.67879302e-03  8.94406151e-03 -1.19776487e-02  1.60401477e-02]\n",
      " [ 1.00000000e+00 -5.13250000e-01  4.65640000e-01  2.63425562e-01\n",
      "  -2.38989730e-01  2.16820610e-01 -1.35203170e-01  1.22661479e-01\n",
      "  -1.11283178e-01  1.00960349e-01  6.93930270e-02 -6.29560041e-02\n",
      "   5.71160910e-02 -5.18178989e-02  4.70111767e-02 -3.56159711e-02\n",
      "   3.23121691e-02 -2.93148337e-02  2.65955366e-02 -2.41284865e-02\n",
      "   2.18902843e-02  1.82798972e-02 -1.65842208e-02  1.50458384e-02\n",
      "  -1.36501592e-02  1.23839457e-02 -1.12351884e-02  1.01929920e-02]]\n"
     ]
    }
   ],
   "source": [
    "X2=mapping(X)\n",
    "print(X2.shape)\n",
    "print(X2[:5])"
   ]
  },
  {
   "cell_type": "markdown",
   "metadata": {},
   "source": [
    "# Descente du Gradient : Préparation des fonctions"
   ]
  },
  {
   "cell_type": "markdown",
   "metadata": {},
   "source": [
    "0- Fonction mpgistique (Sigmoid)"
   ]
  },
  {
   "cell_type": "code",
   "execution_count": 7,
   "metadata": {},
   "outputs": [],
   "source": [
    "def sigmoid(z):\n",
    "    # pour une valeur donnée, cette fonction calculera sa sigmoid\n",
    "    return 1/(1+np.exp(-z))\n",
    "\n",
    "def Sigmoid(X,theta):\n",
    "    K = np.dot(X,theta)\n",
    "    H = 1/(1+np.exp(-K))\n",
    "    return H;\n",
    " "
   ]
  },
  {
   "cell_type": "code",
   "execution_count": 8,
   "metadata": {},
   "outputs": [
    {
     "data": {
      "text/plain": [
       "4.5397868702434395e-05"
      ]
     },
     "execution_count": 8,
     "metadata": {},
     "output_type": "execute_result"
    }
   ],
   "source": [
    "k=sigmoid(-10)\n",
    "k"
   ]
  },
  {
   "cell_type": "markdown",
   "metadata": {},
   "source": [
    "1- Calcul du coût\n",
    "\n",
    "Cette fonction servira à calculer le cout $J(\\theta_0,\\theta_1)$\n",
    "\n",
    "Elle prendra l'ensemble de données d'apprentissage en entrée ainsi que les paramètres définis initialement"
   ]
  },
  {
   "cell_type": "code",
   "execution_count": 32,
   "metadata": {},
   "outputs": [],
   "source": [
    "def computeCost(X, y, theta,lambdaa):\n",
    "    h = Sigmoid(X,theta)\n",
    "    return -1/X.shape[0] * ((y*np.log(h)).sum() + ((1-y)*np.log(1-h)).sum()) + (lambdaa/(2*X.shape[0]))*np.power(theta,2).sum()"
   ]
  },
  {
   "cell_type": "markdown",
   "metadata": {},
   "source": [
    "2- Fonction de la descente du gradient\n",
    "\n",
    "Cette fonction mettra à jour les paramètres $\\theta_0,\\theta_1$ jusqu'à convergence: atteinte du nombre d'itérations max, ou dérivée assez petite."
   ]
  },
  {
   "cell_type": "code",
   "execution_count": 48,
   "metadata": {},
   "outputs": [],
   "source": [
    "def gradientDescent(X, y, theta, alpha,lambdaa, iterations):\n",
    "    vals = []\n",
    "    mpX = mapping(X)\n",
    "    for i in range(iterations):\n",
    "        vals = vals + [theta[0]+0,theta[1]+0,theta[2]+0,computeCostReg(mpX,y,theta,lambdaa)]\n",
    "        theta = np.subtract(theta*(1-alpha*lambdaa/mpX.shape[0]), alpha/X.shape[0]*np.sum(np.dot(np.transpose(mpX), Sigmoid(mpX,theta)- y),axis=1).reshape(-1,1))\n",
    "    return theta,vals\n",
    "\n",
    "\n",
    "def gradientDescent_(X, y, theta, alpha=0.01,lambdaa=1 ,iterations=150):\n",
    "    # garder aussi le cout à chaque itération \n",
    "    # pour afficher le coût en fonction de theta0 et theta1\n",
    "    i = 0\n",
    "    temp_theta = np.zeros((theta.shape))\n",
    "    couts_history, theta_history = [],[]\n",
    "    theta1 = theta\n",
    "    \n",
    "    while (iterations>i):\n",
    "        \n",
    "        tab_h = 1/(1 + np.exp(- (theta1.transpose().dot(X.transpose())))) #calculer \n",
    "        \n",
    "        tab_h = tab_h.reshape(len(y))\n",
    "       \n",
    "        for j in range(len(theta)):\n",
    "            \n",
    "            temp_theta[j] = theta1[j] - alpha*(((((tab_h - y)*X[:,j]).sum())/(len(y))) + ((lambdaa/len(y)*theta1[j])))\n",
    "            \n",
    "        theta1 = temp_theta\n",
    "        \n",
    "        couts_history.append(computeCost(X,y,lambdaa,temp_theta))\n",
    "        \n",
    "        theta_history.append([theta1[0][0],theta1[1][0]])\n",
    "        \n",
    "        i+=1\n",
    "    return theta1, couts_history, theta_history\n"
   ]
  },
  {
   "cell_type": "markdown",
   "metadata": {},
   "source": [
    "# Descente du Gradient : Appel des fonctions"
   ]
  },
  {
   "cell_type": "markdown",
   "metadata": {},
   "source": [
    "Initialisation de $\\theta_0$ et $\\theta_1$"
   ]
  },
  {
   "cell_type": "code",
   "execution_count": 45,
   "metadata": {},
   "outputs": [
    {
     "data": {
      "text/plain": [
       "(28, 1)"
      ]
     },
     "execution_count": 45,
     "metadata": {},
     "output_type": "execute_result"
    }
   ],
   "source": [
    "n=X2.shape[1]\n",
    "\n",
    "theta = np.ones((n, 1))\n",
    "theta.shape"
   ]
  },
  {
   "cell_type": "markdown",
   "metadata": {},
   "source": [
    "Calculer le cout initial"
   ]
  },
  {
   "cell_type": "code",
   "execution_count": 43,
   "metadata": {},
   "outputs": [
    {
     "name": "stdout",
     "output_type": "stream",
     "text": [
      "2.1390856028014507\n"
     ]
    }
   ],
   "source": [
    "initialCost=computeCost(mapping(X), y, theta,1)\n",
    "print(initialCost)"
   ]
  },
  {
   "cell_type": "markdown",
   "metadata": {},
   "source": [
    "Appel des la fonction de calcul du gradient"
   ]
  },
  {
   "cell_type": "code",
   "execution_count": 52,
   "metadata": {},
   "outputs": [
    {
     "data": {
      "text/plain": [
       "0.5352854793349552"
      ]
     },
     "execution_count": 52,
     "metadata": {},
     "output_type": "execute_result"
    }
   ],
   "source": [
    "# paramètres\n",
    "iterations = 15000\n",
    "alpha = 0.01\n",
    "# paramètre de regression\n",
    "lambdaa = 1\n",
    "# Appel\n",
    "theta,vals = gradientDescent(X, y, theta, alpha, lambdaa,iterations)\n",
    "computeCost(mapping(X), y, theta,lambdaa)"
   ]
  },
  {
   "cell_type": "code",
   "execution_count": 54,
   "metadata": {},
   "outputs": [
    {
     "name": "stdout",
     "output_type": "stream",
     "text": [
      "lambda =  1.0  --> cost =  0.5388238554710275\n",
      "lambda =  0.75  --> cost =  0.5226002664633325\n",
      "lambda =  0.5  --> cost =  0.5018472130961597\n",
      "lambda =  0.25  --> cost =  0.4741310933646718\n",
      "lambda =  0.0  --> cost =  0.43499307463281145\n"
     ]
    }
   ],
   "source": [
    "for l in np.linspace(1,0,5):\n",
    "    thet,_ = gradientDescent(X, y, np.ones((28, 1)), alpha, l,iterations)\n",
    "    print(\"lambda = \",l,\" --> cost = \",computeCost(mapping(X), y, thet,l))"
   ]
  },
  {
   "cell_type": "markdown",
   "metadata": {},
   "source": [
    "Traçage de la fonction du coût"
   ]
  },
  {
   "cell_type": "markdown",
   "metadata": {},
   "source": [
    "Notons que $\\theta^T  x$ est équivalent à $X  \\theta $ où $X= \\begin{pmatrix}\n",
    "..(x^{(1)})^T..\\\\\n",
    "..(x^{(2)})^T..\\\\\n",
    ".\\\\\n",
    ".\\\\\n",
    ".\\\\\n",
    "..(x^{(m)})^T..\n",
    "\\end{pmatrix} $"
   ]
  },
  {
   "cell_type": "markdown",
   "metadata": {},
   "source": [
    "# Dessin de la limite de decision (Descision Boundary)\n",
    "Dans cette partie, nous aimerions dessiner la ligne separatrice d nos données"
   ]
  },
  {
   "cell_type": "code",
   "execution_count": 62,
   "metadata": {},
   "outputs": [],
   "source": [
    "def drawCircle():\n",
    "    u = np.linspace(-1, 1.5, 50)\n",
    "    v = np.linspace(-1, 1.5, 50)\n",
    "    z = np.zeros((u.size, v.size))\n",
    "    \n",
    "    for i, ui in enumerate(u):\n",
    "        for j, vj in enumerate(v):\n",
    "            z[i, j] = np.dot(mapping(np.array([[1,u[i],v[j]]])), theta)\n",
    "\n",
    "    z = np.transpose(z)\n",
    "    plt.contour(u, v, z, levels=[0])"
   ]
  },
  {
   "cell_type": "markdown",
   "metadata": {},
   "source": [
    "# Classification (Prédiction)\n",
    "Ici il serait interessant de calculer la prédiction en utilisant un seuil\n",
    "i.e. si h>seuil alors classe =1 sinon classe = 0"
   ]
  },
  {
   "cell_type": "code",
   "execution_count": 56,
   "metadata": {},
   "outputs": [],
   "source": [
    "def predict(X,theta,seuil):\n",
    "    S = Sigmoid(mapping(X),theta)\n",
    "    S[S>=seuil] = 1\n",
    "    S[S<seuil] = 0\n",
    "    return S"
   ]
  },
  {
   "cell_type": "code",
   "execution_count": 57,
   "metadata": {},
   "outputs": [],
   "source": [
    "pred = predict(X,theta,0.5)"
   ]
  },
  {
   "cell_type": "code",
   "execution_count": 58,
   "metadata": {},
   "outputs": [
    {
     "name": "stdout",
     "output_type": "stream",
     "text": [
      "lambda == 1\n",
      "Seuil : 0.0  ---> Erreurs :  60\n",
      "Seuil : 0.1  ---> Erreurs :  56\n",
      "Seuil : 0.2  ---> Erreurs :  47\n",
      "Seuil : 0.30000000000000004  ---> Erreurs :  37\n",
      "Seuil : 0.4  ---> Erreurs :  23\n",
      "Seuil : 0.5  ---> Erreurs :  20\n",
      "Seuil : 0.6000000000000001  ---> Erreurs :  24\n",
      "Seuil : 0.7000000000000001  ---> Erreurs :  41\n",
      "Seuil : 0.8  ---> Erreurs :  58\n",
      "Seuil : 0.9  ---> Erreurs :  58\n",
      "Seuil : 1.0  ---> Erreurs :  58\n",
      "lambda == 0\n",
      "Seuil : 0.0  ---> Erreurs :  60\n",
      "Seuil : 0.1  ---> Erreurs :  51\n",
      "Seuil : 0.2  ---> Erreurs :  39\n",
      "Seuil : 0.30000000000000004  ---> Erreurs :  28\n",
      "Seuil : 0.4  ---> Erreurs :  20\n",
      "Seuil : 0.5  ---> Erreurs :  21\n",
      "Seuil : 0.6000000000000001  ---> Erreurs :  23\n",
      "Seuil : 0.7000000000000001  ---> Erreurs :  34\n",
      "Seuil : 0.8  ---> Erreurs :  49\n",
      "Seuil : 0.9  ---> Erreurs :  58\n",
      "Seuil : 1.0  ---> Erreurs :  58\n"
     ]
    }
   ],
   "source": [
    "print(\"lambda == 1\")\n",
    "for s in np.linspace(0,1,11):\n",
    "    print(\"Seuil :\",s,\" ---> Erreurs : \",(predict(X,theta,s)!=y).sum())\n",
    "print(\"lambda == 0\")\n",
    "for s in np.linspace(0,1,11):\n",
    "    print(\"Seuil :\",s,\" ---> Erreurs : \",(predict(X,thet,s)!=y).sum())"
   ]
  },
  {
   "cell_type": "markdown",
   "metadata": {},
   "source": [
    "# Affichage \n",
    "Graphe representant les acceptations selon les caracteristiques"
   ]
  },
  {
   "cell_type": "code",
   "execution_count": 63,
   "metadata": {},
   "outputs": [
    {
     "data": {
      "text/plain": [
       "Text(0, 0.5, 'x 2')"
      ]
     },
     "execution_count": 63,
     "metadata": {},
     "output_type": "execute_result"
    },
    {
     "data": {
      "image/png": "[encoded data removed]",
      "text/plain": [
       "<Figure size 432x288 with 1 Axes>"
      ]
     },
     "metadata": {
      "needs_background": "light"
     },
     "output_type": "display_data"
    }
   ],
   "source": [
    "plt.scatter(X[np.where(y==1),1],X[np.where(y==1),2], label=\"y=1\",marker ='o')\n",
    "plt.scatter(X[np.where(y==0),1],X[np.where(y==0),2], label=\"y=0\",marker ='x')\n",
    "drawCircle()\n",
    "plt.xlabel('x 1')\n",
    "plt.ylabel('x 2')"
   ]
  },
  {
   "cell_type": "markdown",
   "metadata": {},
   "source": [
    "Traçage du coût en fonction de theta0 et theta1"
   ]
  },
  {
   "cell_type": "code",
   "execution_count": 60,
   "metadata": {},
   "outputs": [
    {
     "data": {
      "text/plain": [
       "Text(0, 0.5, 'Cout')"
      ]
     },
     "execution_count": 60,
     "metadata": {},
     "output_type": "execute_result"
    },
    {
     "data": {
      "image/png": "[encoded data removed]",
      "text/plain": [
       "<Figure size 432x288 with 1 Axes>"
      ]
     },
     "metadata": {
      "needs_background": "light"
     },
     "output_type": "display_data"
    }
   ],
   "source": [
    "plt.plot(range(int(iterations/10)),vals[3::4][:int(iterations/10)])\n",
    "plt.xlabel('Iteration')\n",
    "plt.ylabel('Cout')"
   ]
  },
  {
   "cell_type": "markdown",
   "metadata": {},
   "source": [
    "# Qualité du classifieur\n",
    "\n",
    "Prédire des valeurs de y\n",
    "\n",
    "Ici il serait interessant de calculer la précision de notre classifieur\n",
    "\n",
    "Essayons de calculer ça avec \n",
    "\n",
    "moyenne(y==y-pred) * 100\n",
    "\n",
    "Ceci donnera un pourcentage de precision"
   ]
  },
  {
   "cell_type": "code",
   "execution_count": 64,
   "metadata": {},
   "outputs": [
    {
     "name": "stdout",
     "output_type": "stream",
     "text": [
      "Precision lambda = 1  83.05084745762711\n",
      "Precision lambda = 0  82.20338983050848\n"
     ]
    }
   ],
   "source": [
    "# calcul de precision = nombre de valeurs bien prédites (ici sur toute la base X)\n",
    "y_pred=predict(X,theta,0.5)\n",
    "prcision = np.mean(y==y_pred)*100\n",
    "print(\"Precision lambda = 1 \",prcision)\n",
    "print(\"Precision lambda = 0 \",np.mean(y==predict(X,thet,0.5))*100)"
   ]
  },
  {
   "cell_type": "markdown",
   "metadata": {},
   "source": [
    "# Vérification de l'implementation\n",
    "Comparer vos algorithmes à ceux de scikitlearn"
   ]
  },
  {
   "cell_type": "code",
   "execution_count": null,
   "metadata": {},
   "outputs": [],
   "source": []
  },
  {
   "cell_type": "markdown",
   "metadata": {},
   "source": [
    "# Renforcement d'apprentissage\n",
    "Mettre ici toute idée qui pourrait renforcer votre apprentissage"
   ]
  },
  {
   "cell_type": "code",
   "execution_count": null,
   "metadata": {},
   "outputs": [],
   "source": []
  },
  {
   "cell_type": "markdown",
   "metadata": {},
   "source": [
    "# Consignes"
   ]
  },
  {
   "cell_type": "markdown",
   "metadata": {},
   "source": [
    "Le travail est à remettre par groupe de 4 au maximum [1..4].\n",
    "\n",
    "Le délai est le vendredi 01 Avril 2022 à 22h\n"
   ]
  },
  {
   "cell_type": "code",
   "execution_count": null,
   "metadata": {},
   "outputs": [],
   "source": [
    "# bonne chance"
   ]
  }
 ],
 "metadata": {
  "kernelspec": {
   "display_name": "Python 3 (ipykernel)",
   "language": "python",
   "name": "python3"
  },
  "language_info": {
   "codemirror_mode": {
    "name": "ipython",
    "version": 3
   },
   "file_extension": ".py",
   "mimetype": "text/x-python",
   "name": "python",
   "nbconvert_exporter": "python",
   "pygments_lexer": "ipython3",
   "version": "3.7.11"
  }
 },
 "nbformat": 4,
 "nbformat_minor": 2
}

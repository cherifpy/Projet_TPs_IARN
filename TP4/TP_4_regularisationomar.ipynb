{
 "cells": [
  {
   "cell_type": "markdown",
   "metadata": {
    "id": "F5QXxO-YNEJ9"
   },
   "source": [
    "# TP 4 Regression logistique avec régularisation\n",
    "Dans ce TP, nous aimerions faire une classification binaire en utilisant la régression.\n",
    "\n",
    "Pour ce faire, nous étudierons un ensemble de données avec la variable  (y) representant la commercialisation d'un profuit et les caractéristiques (X) representant les résultat des tests de qualité test 1 et test 2 du produit.\n",
    "\n",
    "La prédiction se fera avec l'agorithme de descente du gradient avec régularisation."
   ]
  },
  {
   "cell_type": "markdown",
   "metadata": {
    "id": "67rTPAyNNEKD"
   },
   "source": [
    "# Importation des librairies necessaires au travail"
   ]
  },
  {
   "cell_type": "code",
   "execution_count": 1,
   "metadata": {
    "id": "7Fdg-mBQNEKE"
   },
   "outputs": [],
   "source": [
    "import numpy as np\n",
    "import matplotlib.pyplot as plt\n",
    "import sklearn.linear_model"
   ]
  },
  {
   "cell_type": "markdown",
   "metadata": {
    "id": "GOb6IEjdNEKG"
   },
   "source": [
    "# Lecture des fichiers de données\n",
    "Pour ce TP, nous allons lire les données à partir d'un fichier csv."
   ]
  },
  {
   "cell_type": "code",
   "execution_count": 2,
   "metadata": {
    "id": "E4mzgLpjNEKG",
    "outputId": "d1c0df1e-d4f0-4944-a869-cd74ecc757e5"
   },
   "outputs": [
    {
     "data": {
      "text/plain": [
       "(118, 3)"
      ]
     },
     "execution_count": 2,
     "metadata": {},
     "output_type": "execute_result"
    }
   ],
   "source": [
    "# données\n",
    "data = np.genfromtxt('data.csv', delimiter=',', dtype=float)\n",
    "data.shape"
   ]
  },
  {
   "cell_type": "markdown",
   "metadata": {
    "id": "YSIhvIVONEKI"
   },
   "source": [
    "Dans ces données (data), la première colonne represente la première note, la deuxieme colonne la deuxième note et la troisième colonne represente la commercialisation (1 oui 0 non).\n",
    "\n",
    "Chaque ligne represente un exemple de notre ensemble de données. \n",
    "\n",
    "Mettons ces données dans leus vecteurs correspondants."
   ]
  },
  {
   "cell_type": "code",
   "execution_count": 3,
   "metadata": {
    "id": "R4oO9qOjNEKJ"
   },
   "outputs": [],
   "source": [
    "# rajoutons l'ordonnée à l'origine theta 0\n",
    "intercept=np.ones((data.shape[0],1))\n",
    "X=np.column_stack((intercept,data[:,0:2]))\n",
    "y = data[:, 2];\n",
    "# forcer y à avoir une seule colonne\n",
    "y = y.reshape( y.shape[0], 1)"
   ]
  },
  {
   "cell_type": "code",
   "execution_count": 4,
   "metadata": {
    "id": "LTfJFQDWNEKK",
    "outputId": "fea91e95-740c-4a98-e7ee-a2c3c57899ad"
   },
   "outputs": [
    {
     "name": "stdout",
     "output_type": "stream",
     "text": [
      "X (118, 3)  y  (118, 1)\n"
     ]
    }
   ],
   "source": [
    "print('X', X.shape ,' y ', y.shape)"
   ]
  },
  {
   "cell_type": "code",
   "execution_count": 5,
   "metadata": {
    "id": "wcorwml8NEKK",
    "outputId": "6ede675d-6689-4881-d60e-92fdea6fc2c3"
   },
   "outputs": [
    {
     "data": {
      "text/plain": [
       "array([0.051267, 0.69956 , 1.      ])"
      ]
     },
     "execution_count": 5,
     "metadata": {},
     "output_type": "execute_result"
    }
   ],
   "source": [
    "data[0]"
   ]
  },
  {
   "cell_type": "markdown",
   "metadata": {
    "id": "rTRB5Lz1NEKL"
   },
   "source": [
    "# Transformation de données\n",
    "Dans cette partie, nous aimerions transformer nos données afin d'avoir une fonction polynomiale de degrée 6.\n",
    "\n",
    "La fonction sera:\n",
    "\n",
    "$x_0=1$\n",
    "\n",
    "$x_1=x_1$\n",
    "\n",
    "$x_2=x_2$\n",
    "\n",
    "$x_3={x_1}^2$\n",
    "\n",
    "$x_4={x_1}x_2$\n",
    "\n",
    "$x_5={x_2}^2$\n",
    "\n",
    "$x_6={x_1}^3$\n",
    "\n",
    "$x_7={x_1}^2 x_2$\n",
    "\n",
    "$x_8= x_1 {x_2}^2$\n",
    "\n",
    "$x_9= {x_2}^3$\n",
    "\n",
    "...\n"
   ]
  },
  {
   "cell_type": "markdown",
   "metadata": {
    "id": "jMcvCiPTNEKM"
   },
   "source": [
    "Pour un polynme de degrée 6 à 2 variables nous aurons 28 caracteristiques\n",
    "\n",
    "**Question**: comment avons nous trouvé ce chiffre?\n",
    "\n",
    "**Astuce**: référez vous aux probabilités"
   ]
  },
  {
   "cell_type": "markdown",
   "metadata": {
    "id": "rrCKz95FNEKM"
   },
   "source": [
    "Pour notre cas de 2 variables on peut remarquer que le nombre de characteristiques peut être calculé par $\\sum^{degre}_{i=0} C^i_{i+1}$"
   ]
  },
  {
   "cell_type": "code",
   "execution_count": 6,
   "metadata": {
    "id": "YiT971yVNEKN"
   },
   "outputs": [],
   "source": [
    "def mapping(X):\n",
    "    cols = 28\n",
    "    degree=7\n",
    "    outX= np.ones((X.shape[0],cols))\n",
    "    X1=X[:,1]\n",
    "    X2=X[:,2]\n",
    "    k=0\n",
    "    for i in range(degree):\n",
    "        for j in range(i+1):\n",
    "            outX[:, k] = np.power(X1,i-j)*(np.power(X2,j));\n",
    "            k=k+1\n",
    "    return outX    "
   ]
  },
  {
   "cell_type": "code",
   "execution_count": 7,
   "metadata": {
    "id": "bIvkUSIBNEKN",
    "outputId": "1379bc1a-44a1-4a00-bf1b-634916d6dc63"
   },
   "outputs": [
    {
     "data": {
      "text/plain": [
       "(118, 28)"
      ]
     },
     "execution_count": 7,
     "metadata": {},
     "output_type": "execute_result"
    }
   ],
   "source": [
    "X2=mapping(X)\n",
    "X2.shape"
   ]
  },
  {
   "cell_type": "code",
   "execution_count": 8,
   "metadata": {
    "id": "HOKepgFkNEKO",
    "outputId": "4a76119a-6a13-4e2f-a151-fe6b17c8d2b1"
   },
   "outputs": [
    {
     "data": {
      "text/plain": [
       "(1, 28)"
      ]
     },
     "execution_count": 8,
     "metadata": {},
     "output_type": "execute_result"
    }
   ],
   "source": [
    "mapping(np.array([[1,2,3]])).shape"
   ]
  },
  {
   "cell_type": "code",
   "execution_count": null,
   "metadata": {
    "id": "RlmfOTsDNEKO"
   },
   "outputs": [],
   "source": []
  },
  {
   "cell_type": "markdown",
   "metadata": {
    "id": "4F_CqnMYNEKP"
   },
   "source": [
    "# Descente du Gradient : Préparation des fonctions"
   ]
  },
  {
   "cell_type": "markdown",
   "metadata": {
    "id": "4YdlCfvcNEKP"
   },
   "source": [
    "0- Fonction mpgistique (Sigmoid)"
   ]
  },
  {
   "cell_type": "code",
   "execution_count": 9,
   "metadata": {
    "id": "UbPzP0lgNEKP"
   },
   "outputs": [],
   "source": [
    "def sigmoid(z):\n",
    "    # pour une valeur donnée, cette fonction calculera sa sigmoid\n",
    "    return 1/(1+np.exp(-z))\n",
    "def Sigmoid(X,theta):\n",
    "    K = np.dot(X,theta)\n",
    "    H = 1/(1+np.exp(-K))\n",
    "    return H"
   ]
  },
  {
   "cell_type": "code",
   "execution_count": 10,
   "metadata": {
    "id": "f6PSt3oHNEKP",
    "outputId": "4d1297e5-ddee-4763-9b4d-779e639e998b"
   },
   "outputs": [
    {
     "data": {
      "text/plain": [
       "4.5397868702434395e-05"
      ]
     },
     "execution_count": 10,
     "metadata": {},
     "output_type": "execute_result"
    }
   ],
   "source": [
    "k=sigmoid(-10)\n",
    "k"
   ]
  },
  {
   "cell_type": "markdown",
   "metadata": {
    "id": "wz8n0O5iNEKQ"
   },
   "source": [
    "1- Calcul du coût\n",
    "\n",
    "Cette fonction servira à calculer le cout $J(\\theta_0,\\theta_1)$\n",
    "\n",
    "Elle prendra l'ensemble de données d'apprentissage en entrée ainsi que les paramètres définis initialement"
   ]
  },
  {
   "cell_type": "code",
   "execution_count": 11,
   "metadata": {
    "id": "oHElt-NWNEKQ"
   },
   "outputs": [],
   "source": [
    "def computeCostReg(X, y, theta,lambdaa):\n",
    "    h = Sigmoid(X,theta)\n",
    "    return -1/X.shape[0] * ((y*np.log(h)).sum() + ((1-y)*np.log(1-h)).sum()) + lambdaa/(2*X.shape[0])*np.power(theta,2).sum()"
   ]
  },
  {
   "cell_type": "markdown",
   "metadata": {
    "id": "clTQSMYINEKQ"
   },
   "source": [
    "2- Fonction de la descente du gradient\n",
    "\n",
    "Cette fonction mettra à jour les paramètres $\\theta_0,\\theta_1$ jusqu'à convergence: atteinte du nombre d'itérations max, ou dérivée assez petite."
   ]
  },
  {
   "cell_type": "code",
   "execution_count": 12,
   "metadata": {
    "id": "I1rXr6aINEKR"
   },
   "outputs": [],
   "source": [
    "def gradientDescent(X, y, theta, alpha,lambdaa, iterations):\n",
    "    vals = []\n",
    "    mpX = mapping(X)\n",
    "    for i in range(iterations):\n",
    "        vals = vals + [theta[0]+0,theta[1]+0,theta[2]+0,computeCostReg(mpX,y,theta,lambdaa)]\n",
    "        theta = np.subtract(theta*(1-alpha*lambdaa/mpX.shape[0]), alpha/X.shape[0]*np.sum(np.dot(np.transpose(mpX), Sigmoid(mpX,theta)- y),axis=1).reshape(-1,1))\n",
    "    return theta,vals"
   ]
  },
  {
   "cell_type": "markdown",
   "metadata": {
    "id": "hph1opxsNEKR"
   },
   "source": [
    "# Descente du Gradient : Appel des fonctions"
   ]
  },
  {
   "cell_type": "markdown",
   "metadata": {
    "id": "dmXXaGkbNEKS"
   },
   "source": [
    "Initialisation de $\\theta_0$ et $\\theta_1$"
   ]
  },
  {
   "cell_type": "code",
   "execution_count": 13,
   "metadata": {
    "id": "i1i6kutYNEKS"
   },
   "outputs": [],
   "source": [
    "n=X2.shape[1]\n",
    "theta = np.ones((n, 1))"
   ]
  },
  {
   "cell_type": "markdown",
   "metadata": {
    "id": "_ZiZFVCdNEKS"
   },
   "source": [
    "Calculer le cout initial"
   ]
  },
  {
   "cell_type": "code",
   "execution_count": 14,
   "metadata": {
    "id": "gxM0pWNjNEKS",
    "outputId": "829356b6-ed41-4913-d7dd-83a404fdffdd"
   },
   "outputs": [
    {
     "name": "stdout",
     "output_type": "stream",
     "text": [
      "2.1390856028014507\n"
     ]
    }
   ],
   "source": [
    "initialCost=computeCostReg(mapping(X), y, theta,1)\n",
    "print(initialCost)"
   ]
  },
  {
   "cell_type": "markdown",
   "metadata": {
    "id": "yRBo6TygNEKT"
   },
   "source": [
    "Appel des la fonction de calcul du gradient"
   ]
  },
  {
   "cell_type": "code",
   "execution_count": null,
   "metadata": {
    "id": "XkHrRxfANEKT",
    "outputId": "3a27a07e-a50c-4dde-ea3e-db5a6a81b6e9"
   },
   "outputs": [
    {
     "data": {
      "text/plain": [
       "0.5351602503808913"
      ]
     },
     "execution_count": 42,
     "metadata": {},
     "output_type": "execute_result"
    }
   ],
   "source": [
    "# paramètres\n",
    "iterations = 30000\n",
    "alpha = 0.7\n",
    "# paramètre de regression\n",
    "lambdaa = 1\n",
    "# Appel\n",
    "theta,vals = gradientDescent(X, y, theta, alpha, lambdaa,iterations)\n",
    "computeCostReg(mapping(X), y, theta,lambdaa)"
   ]
  },
  {
   "cell_type": "code",
   "execution_count": null,
   "metadata": {
    "id": "i1MXH-psNEKT",
    "outputId": "dbb8e02d-7ca5-4bb0-d546-5c0816310344"
   },
   "outputs": [
    {
     "name": "stdout",
     "output_type": "stream",
     "text": [
      "lambda =  1.0  --> cost =  0.5351602503808913\n",
      "lambda =  0.75  --> cost =  0.5158182768457104\n",
      "lambda =  0.5  --> cost =  0.4886088756741329\n",
      "lambda =  0.25  --> cost =  0.4449256773140699\n",
      "lambda =  0.0  --> cost =  0.30786143585623277\n"
     ]
    }
   ],
   "source": [
    "for l in np.linspace(1,0,5):\n",
    "    thet,_ = gradientDescent(X, y, np.ones((28, 1)), alpha, l,iterations)\n",
    "    print(\"lambda = \",l,\" --> cost = \",computeCostReg(mapping(X), y, thet,l))"
   ]
  },
  {
   "cell_type": "markdown",
   "metadata": {
    "id": "NQoeaU_yNEKU"
   },
   "source": [
    "## On remarque que pour lambda = 0 on a un cout meilleur que pour lambda = 1"
   ]
  },
  {
   "cell_type": "markdown",
   "metadata": {
    "id": "yRZAexYUNEKU"
   },
   "source": [
    "Traçage de la fonction du coût"
   ]
  },
  {
   "cell_type": "markdown",
   "metadata": {
    "id": "B5Et3WR4NEKU"
   },
   "source": [
    "Notons que $\\theta^T  x$ est équivalent à $X  \\theta $ où $X= \\begin{pmatrix}\n",
    "..(x^{(1)})^T..\\\\\n",
    "..(x^{(2)})^T..\\\\\n",
    ".\\\\\n",
    ".\\\\\n",
    ".\\\\\n",
    "..(x^{(m)})^T..\n",
    "\\end{pmatrix} $"
   ]
  },
  {
   "cell_type": "markdown",
   "metadata": {
    "id": "lJmakvvRNEKU"
   },
   "source": [
    "# Dessin de la limite de decision (Descision Boundary)\n",
    "Dans cette partie, nous aimerions dessiner la ligne separatrice d nos données"
   ]
  },
  {
   "cell_type": "code",
   "execution_count": null,
   "metadata": {
    "id": "7b_OiJ2INEKU"
   },
   "outputs": [],
   "source": [
    "def drawCircle(theta,couleur):\n",
    "    u = np.linspace(-1, 1.5, 50)\n",
    "    v = np.linspace(-1, 1.5, 50)\n",
    "    z = np.zeros((u.size, v.size))\n",
    "    \n",
    "    for i, ui in enumerate(u):\n",
    "        for j, vj in enumerate(v):\n",
    "            z[i, j] = np.dot(mapping(np.array([[1,u[i],v[j]]])), theta)\n",
    "\n",
    "    z = np.transpose(z)\n",
    "    plt.contour(u, v, z, levels=[0], colors=couleur)"
   ]
  },
  {
   "cell_type": "markdown",
   "metadata": {
    "id": "Nx264PmJNEKV"
   },
   "source": [
    "# Classification (Prédiction)\n",
    "Ici il serait interessant de calculer la prédiction en utilisant un seuil\n",
    "i.e. si h>seuil alors classe =1 sinon classe = 0"
   ]
  },
  {
   "cell_type": "code",
   "execution_count": null,
   "metadata": {
    "id": "zud7frgnNEKV"
   },
   "outputs": [],
   "source": [
    "def predict(X,theta,seuil):\n",
    "    S = Sigmoid(mapping(X),theta)\n",
    "    S[S>=seuil] = 1\n",
    "    S[S<seuil] = 0\n",
    "    return S"
   ]
  },
  {
   "cell_type": "code",
   "execution_count": null,
   "metadata": {
    "id": "4q96_7sMNEKV"
   },
   "outputs": [],
   "source": [
    "pred = predict(X,theta,0.5)"
   ]
  },
  {
   "cell_type": "code",
   "execution_count": null,
   "metadata": {
    "id": "7a5eE32jNEKV",
    "outputId": "c36734db-cd98-4d46-998c-1d67c4557d3e"
   },
   "outputs": [
    {
     "name": "stdout",
     "output_type": "stream",
     "text": [
      "lambda == 1\n",
      "Seuil : 0.0  ---> Erreurs :  60\n",
      "Seuil : 0.1  ---> Erreurs :  56\n",
      "Seuil : 0.2  ---> Erreurs :  47\n",
      "Seuil : 0.30000000000000004  ---> Erreurs :  36\n",
      "Seuil : 0.4  ---> Erreurs :  23\n",
      "Seuil : 0.5  ---> Erreurs :  21\n",
      "Seuil : 0.6000000000000001  ---> Erreurs :  24\n",
      "Seuil : 0.7000000000000001  ---> Erreurs :  41\n",
      "Seuil : 0.8  ---> Erreurs :  58\n",
      "Seuil : 0.9  ---> Erreurs :  58\n",
      "Seuil : 1.0  ---> Erreurs :  58\n",
      "lambda == 0\n",
      "Seuil : 0.0  ---> Erreurs :  60\n",
      "Seuil : 0.1  ---> Erreurs :  24\n",
      "Seuil : 0.2  ---> Erreurs :  19\n",
      "Seuil : 0.30000000000000004  ---> Erreurs :  17\n",
      "Seuil : 0.4  ---> Erreurs :  16\n",
      "Seuil : 0.5  ---> Erreurs :  19\n",
      "Seuil : 0.6000000000000001  ---> Erreurs :  18\n",
      "Seuil : 0.7000000000000001  ---> Erreurs :  20\n",
      "Seuil : 0.8  ---> Erreurs :  25\n",
      "Seuil : 0.9  ---> Erreurs :  34\n",
      "Seuil : 1.0  ---> Erreurs :  58\n"
     ]
    }
   ],
   "source": [
    "print(\"lambda == 1\")\n",
    "for s in np.linspace(0,1,11):\n",
    "    print(\"Seuil :\",s,\" ---> Erreurs : \",(predict(X,theta,s)!=y).sum())\n",
    "print(\"lambda == 0\")\n",
    "for s in np.linspace(0,1,11):\n",
    "    print(\"Seuil :\",s,\" ---> Erreurs : \",(predict(X,thet,s)!=y).sum())"
   ]
  },
  {
   "cell_type": "markdown",
   "metadata": {
    "id": "CSGaTPUENEKW"
   },
   "source": [
    "## Quelle que soit la valeur de lambda, le meilleur seuil est environs 0.5. Et on remarque qu'il y a moins d'erreurs pour lambda = 0 que lambda = 1"
   ]
  },
  {
   "cell_type": "markdown",
   "metadata": {
    "id": "sdNGfCEJNEKW"
   },
   "source": [
    "# Affichage \n",
    "Graphe representant les acceptations selon les caracteristiques"
   ]
  },
  {
   "cell_type": "code",
   "execution_count": null,
   "metadata": {
    "id": "caNE1cLMNEKW",
    "outputId": "97682f8e-7fbd-4b90-af2f-fe70777feb16"
   },
   "outputs": [
    {
     "data": {
      "text/plain": [
       "Text(0, 0.5, 'x 2')"
      ]
     },
     "execution_count": 48,
     "metadata": {},
     "output_type": "execute_result"
    },
    {
     "data": {
      "image/png": "[encoded data removed]",
      "text/plain": [
       "<Figure size 432x288 with 1 Axes>"
      ]
     },
     "metadata": {
      "needs_background": "light"
     },
     "output_type": "display_data"
    }
   ],
   "source": [
    "plt.scatter(X[np.where(y==1),1],X[np.where(y==1),2], label=\"y=1\",marker ='o')\n",
    "plt.scatter(X[np.where(y==0),1],X[np.where(y==0),2], label=\"y=0\",marker ='x')\n",
    "drawCircle(theta,'g')\n",
    "drawCircle(thet,'r')\n",
    "plt.xlabel('x 1')\n",
    "plt.ylabel('x 2')"
   ]
  },
  {
   "cell_type": "markdown",
   "metadata": {
    "id": "bmP-_ejANEKW"
   },
   "source": [
    "## De ce qu'on a vu precedemment avoir lambda = 0 semble être meilleur que lambda = 1. Mais avec ce graph on se rends compte que le premier souffre d'over-fitting tandis que le second est juste ce qu'il faut."
   ]
  },
  {
   "cell_type": "code",
   "execution_count": null,
   "metadata": {
    "id": "fmylF1htNEKW",
    "outputId": "2174963d-57e8-408c-dd3a-5299a9d36f5e"
   },
   "outputs": [
    {
     "data": {
      "text/plain": [
       "Text(0, 0.5, 'Cout')"
      ]
     },
     "execution_count": 49,
     "metadata": {},
     "output_type": "execute_result"
    },
    {
     "data": {
      "image/png": "[encoded data removed]",
      "text/plain": [
       "<Figure size 432x288 with 1 Axes>"
      ]
     },
     "metadata": {
      "needs_background": "light"
     },
     "output_type": "display_data"
    }
   ],
   "source": [
    "plt.plot(range(int(iterations/10)),vals[3::4][:int(iterations/10)])\n",
    "plt.xlabel('Iteration')\n",
    "plt.ylabel('Cout')"
   ]
  },
  {
   "cell_type": "markdown",
   "metadata": {
    "id": "m4eGZMYYNEKX"
   },
   "source": [
    "# Qualité du classifieur\n",
    "\n",
    "Prédire des valeurs de y\n",
    "\n",
    "Ici il serait interessant de calculer la précision de notre classifieur\n",
    "\n",
    "Essayons de calculer ça avec \n",
    "\n",
    "moyenne(y==y-pred) * 100\n",
    "\n",
    "Ceci donnera un pourcentage de precision"
   ]
  },
  {
   "cell_type": "code",
   "execution_count": null,
   "metadata": {
    "id": "g6ktWB5xNEKX",
    "outputId": "3d4631b4-5234-47a2-f573-7929a238649b"
   },
   "outputs": [
    {
     "name": "stdout",
     "output_type": "stream",
     "text": [
      "Precision lambda = 1  82.20338983050848\n",
      "Precision lambda = 0  83.89830508474576\n"
     ]
    }
   ],
   "source": [
    "# calcul de precision = nombre de valeurs bien prédites (ici sur toute la base X)\n",
    "y_pred=predict(X,theta,0.5)\n",
    "prcision = np.mean(y==y_pred)*100\n",
    "print(\"Precision lambda = 1 \",prcision)\n",
    "print(\"Precision lambda = 0 \",np.mean(y==predict(X,thet,0.5))*100)"
   ]
  },
  {
   "cell_type": "markdown",
   "metadata": {
    "id": "SZ8-ayGaNEKX"
   },
   "source": [
    "# Vérification de l'implementation\n",
    "Comparer vos algorithmes à ceux de scikitlearn"
   ]
  },
  {
   "cell_type": "code",
   "execution_count": null,
   "metadata": {
    "id": "xbLbb_U-NEKX",
    "outputId": "f6dce193-fdbc-4a8c-85c6-2d113082836d"
   },
   "outputs": [
    {
     "data": {
      "text/plain": [
       "LogisticRegression()"
      ]
     },
     "execution_count": 51,
     "metadata": {},
     "output_type": "execute_result"
    }
   ],
   "source": [
    "clf = sklearn.linear_model.LogisticRegression()\n",
    "clf.fit(X2, np.ravel(y))"
   ]
  },
  {
   "cell_type": "code",
   "execution_count": null,
   "metadata": {
    "id": "TIBYI25dNEKX"
   },
   "outputs": [],
   "source": [
    "thetaSk = np.append(clf.intercept_[0],(clf.coef_.T[1:]))"
   ]
  },
  {
   "cell_type": "code",
   "execution_count": null,
   "metadata": {
    "id": "Yfk0ZQYENEKY",
    "outputId": "10c4109a-849b-4fd9-b576-985e74c2f78f"
   },
   "outputs": [
    {
     "data": {
      "text/plain": [
       "Text(0, 0.5, 'x 2')"
      ]
     },
     "execution_count": 53,
     "metadata": {},
     "output_type": "execute_result"
    },
    {
     "data": {
      "image/png": "[encoded data removed]",
      "text/plain": [
       "<Figure size 432x288 with 1 Axes>"
      ]
     },
     "metadata": {
      "needs_background": "light"
     },
     "output_type": "display_data"
    }
   ],
   "source": [
    "plt.scatter(X[np.where(y==1),1],X[np.where(y==1),2], label=\"y=1\",marker ='o')\n",
    "plt.scatter(X[np.where(y==0),1],X[np.where(y==0),2], label=\"y=0\",marker ='x')\n",
    "drawCircle(theta,'g')\n",
    "drawCircle(thetaSk,'r')\n",
    "plt.xlabel('x 1')\n",
    "plt.ylabel('x 2')"
   ]
  },
  {
   "cell_type": "markdown",
   "metadata": {
    "id": "uXPnyMawNEKY"
   },
   "source": [
    "## Quasiment la même chose"
   ]
  },
  {
   "cell_type": "markdown",
   "metadata": {
    "id": "wYoWwU3PNEKY"
   },
   "source": [
    "# Renforcement d'apprentissage\n",
    "Mettre ici toute idée qui pourrait renforcer votre apprentissage"
   ]
  },
  {
   "cell_type": "code",
   "execution_count": null,
   "metadata": {
    "id": "bnVs5JGtNEKY"
   },
   "outputs": [],
   "source": []
  },
  {
   "cell_type": "markdown",
   "metadata": {
    "id": "us_l9-NhNEKY"
   },
   "source": [
    "# Consignes"
   ]
  },
  {
   "cell_type": "markdown",
   "metadata": {
    "id": "HPIPVDfoNEKZ"
   },
   "source": [
    "Le travail est à remettre par groupe de 4 au maximum [1..4].\n",
    "\n",
    "Le délai est le vendredi 01 Avril 2022 à 22h\n"
   ]
  },
  {
   "cell_type": "code",
   "execution_count": null,
   "metadata": {
    "id": "D2Kn-36fNEKZ"
   },
   "outputs": [],
   "source": [
    "# bonne chance"
   ]
  }
 ],
 "metadata": {
  "colab": {
   "collapsed_sections": [],
   "name": "TP 4 regularisationomar.ipynb",
   "provenance": []
  },
  "kernelspec": {
   "display_name": "Python 3 (ipykernel)",
   "language": "python",
   "name": "python3"
  },
  "language_info": {
   "codemirror_mode": {
    "name": "ipython",
    "version": 3
   },
   "file_extension": ".py",
   "mimetype": "text/x-python",
   "name": "python",
   "nbconvert_exporter": "python",
   "pygments_lexer": "ipython3",
   "version": "3.7.11"
  }
 },
 "nbformat": 4,
 "nbformat_minor": 1
}

{
 "cells": [
  {
   "cell_type": "markdown",
   "metadata": {
    "id": "j1_GBEAaf2e0"
   },
   "source": [
    "# TP 2 Descente du Gradient\n",
    "Dans ce TP, nous aimerions prédire le bénéfice d'une entreprise dans plusieurs ville en nous basant sur les habitant de cette ville.\n",
    "\n",
    "Pour ce faire, nous étudierons un ensemble de données avec le bénéfice (y) et les caractéristiques des habitants (X).\n",
    "\n",
    "La prédiction se fera avec l'agorithme de descente du gradient."
   ]
  },
  {
   "cell_type": "markdown",
   "metadata": {},
   "source": [
    "## Noms du QUADRINÔME:\n",
    "\n",
    "- SI MOHAMMED Cherif 181831018892\n",
    "- HAMMAZ Massinissa 181831015896\n",
    "- SADOUDI Brahim 181831013058\n",
    "- SADADOU Mohamed 181833012802"
   ]
  },
  {
   "cell_type": "markdown",
   "metadata": {
    "id": "xqXVyDtlf2e4"
   },
   "source": [
    "# Importation des librairies necessaires au travail"
   ]
  },
  {
   "cell_type": "code",
   "execution_count": 1,
   "metadata": {
    "id": "Z7Ut1MyHf2e4"
   },
   "outputs": [],
   "source": [
    "import numpy as np\n",
    "import matplotlib.pyplot as plt\n",
    "import pandas as pd\n",
    "from sklearn.linear_model import LinearRegression,SGDRegressor\n",
    "import time"
   ]
  },
  {
   "cell_type": "markdown",
   "metadata": {
    "id": "ekH1R_JWf2e5"
   },
   "source": [
    "# Lecture des fichiers de données\n",
    "Pour ce TP, nous allons lire les données à partir d'un fichier csv."
   ]
  },
  {
   "cell_type": "code",
   "execution_count": 2,
   "metadata": {
    "id": "GsEfLfb6f2e6",
    "outputId": "6bfb8c10-c80a-43ad-cd7f-7bfcd73e64e6"
   },
   "outputs": [
    {
     "name": "stdout",
     "output_type": "stream",
     "text": [
      "Le representation des donnees:  <class 'tuple'> \n",
      "\n",
      "Un un échantillon du dataset:\n",
      " [[ 6.1101 17.592 ]\n",
      " [ 5.5277  9.1302]\n",
      " [ 8.5186 13.662 ]\n",
      " [ 7.0032 11.854 ]\n",
      " [ 5.8598  6.8233]]\n"
     ]
    }
   ],
   "source": [
    "# données\n",
    "data = np.genfromtxt('data.csv', delimiter=',', dtype=np.double)\n",
    "print(\"Le representation des donnees: \",type(data.shape),\"\\n\")\n",
    "\n",
    "print(\"Un un échantillon du dataset:\\n\",data[:5])"
   ]
  },
  {
   "cell_type": "markdown",
   "metadata": {
    "id": "hYl6Ry2Uf2e7"
   },
   "source": [
    "Dans ces données (data), la première colonne represente la première caractéristique (la population d'une ville x1000), la deuxieme colonne represente le bénéfice (x1000).\n",
    "\n",
    "Chaque ligne represente un exemple de notre ensemble de données. \n",
    "\n",
    "Mettons ces données dans leus vecteurs correspondants."
   ]
  },
  {
   "cell_type": "code",
   "execution_count": 3,
   "metadata": {
    "id": "ocIjARGwf2e7"
   },
   "outputs": [
    {
     "name": "stdout",
     "output_type": "stream",
     "text": [
      "(97, 2)\n"
     ]
    },
    {
     "data": {
      "text/plain": [
       "(97,)"
      ]
     },
     "execution_count": 3,
     "metadata": {},
     "output_type": "execute_result"
    }
   ],
   "source": [
    "# rajoutons l'ordonnée à l'origine theta 0\n",
    "intercept=np.ones((data.shape[0],1))\n",
    "X=np.column_stack((intercept,data[:,0]))\n",
    "print(X.shape)\n",
    "y = data[:, 1]\n",
    "y.shape"
   ]
  },
  {
   "cell_type": "code",
   "execution_count": 4,
   "metadata": {
    "id": "UZzbI6m9f2e8",
    "outputId": "d765b692-dda2-4cd4-ee58-cdc319c8a8c5"
   },
   "outputs": [
    {
     "data": {
      "text/plain": [
       "Text(0, 0.5, 'Bénéfice x1000')"
      ]
     },
     "execution_count": 4,
     "metadata": {},
     "output_type": "execute_result"
    },
    {
     "data": {
      "image/png": "[encoded data removed]",
      "text/plain": [
       "<Figure size 432x288 with 1 Axes>"
      ]
     },
     "metadata": {
      "needs_background": "light"
     },
     "output_type": "display_data"
    }
   ],
   "source": [
    "# traçons ces données pour visualisation\n",
    "plt.scatter(X[:,1],y,marker ='x')\n",
    "plt.xlabel('Population x 1000')\n",
    "plt.ylabel('Bénéfice x1000')"
   ]
  },
  {
   "cell_type": "markdown",
   "metadata": {
    "id": "LEvfJ63Vf2e9"
   },
   "source": [
    "# Descente du Gradient : Préparation des fonctions"
   ]
  },
  {
   "cell_type": "markdown",
   "metadata": {
    "id": "GGTO0spOf2e9"
   },
   "source": [
    "1- Calcul du coût\n",
    "\n",
    "Cette fonction servira à calculer le cout $J(\\theta_0,\\theta_1)$\n",
    "\n",
    "Elle prendra l'ensemble de données d'apprentissage en entrée ainsi que les paramètres définis initialement"
   ]
  },
  {
   "cell_type": "code",
   "execution_count": 5,
   "metadata": {},
   "outputs": [],
   "source": [
    "def Hypothese(x, theta):\n",
    "    return (x*theta[1]) + theta[0]\n"
   ]
  },
  {
   "cell_type": "code",
   "execution_count": 6,
   "metadata": {
    "id": "Cfi6ay_Lf2e-"
   },
   "outputs": [
    {
     "name": "stdout",
     "output_type": "stream",
     "text": [
      "Couts: [32.07273388]\n",
      "temps d'execution sans vectorisation:0.003741025924682617\n"
     ]
    }
   ],
   "source": [
    "def computeCostNonVect(X, y, theta):\n",
    "    # idéalement, tracer le coût à chaque itération pour s'assurer que la descente du gradient est correcte\n",
    "    \n",
    "    # calculer le coût avec et sans vectorisation, \n",
    "    # comparer le temps de traitement\n",
    "    somme = 0\n",
    "    \n",
    "    for i in range(X.shape[0]):\n",
    "        \n",
    "        h = Hypothese(X[i,1],theta)\n",
    "        \n",
    "        somme += (h - y[i])**2\n",
    "        \n",
    "    return (somme)/(2*len(X))\n",
    "debut = time.time()\n",
    "print(\"Couts:\",computeCostNonVect(X,y,np.zeros((2,1))))\n",
    "fin = time.time()\n",
    "print(f\"temps d'execution sans vectorisation:{fin-debut}\")"
   ]
  },
  {
   "cell_type": "code",
   "execution_count": 7,
   "metadata": {
    "id": "S8QKCQzFf2e-"
   },
   "outputs": [
    {
     "name": "stdout",
     "output_type": "stream",
     "text": [
      "Couts: 32.072733877455676\n",
      "temps d'execution avec vectorisation:0.00026297569274902344\n"
     ]
    }
   ],
   "source": [
    "def computeCost(X, y, theta):\n",
    "    # idéalement, tracer le coût à chaque itération pour s'assurer que la descente du gradient est correcte\n",
    "    \n",
    "    # calculer le coût avec et sans vectorisation, \n",
    "    # comparer le temps de traitement\n",
    "    \n",
    "    tab_h = X.dot(theta)\n",
    "    \n",
    "    tab_h = np.transpose(tab_h)\n",
    "\n",
    "    return  (((tab_h - y)**2).sum())/(2*len(y))\n",
    "\n",
    "debut_ = time.time()\n",
    "print(\"Couts:\",computeCost(X,y,np.zeros((2,1))))\n",
    "fin_ = time.time()\n",
    "print(f\"temps d'execution avec vectorisation:{fin_-debut_}\")"
   ]
  },
  {
   "cell_type": "markdown",
   "metadata": {},
   "source": [
    "On remarque que avec le vectorisation on a un temps d'execution inferieur que le temps d'execution avec vectorisation"
   ]
  },
  {
   "cell_type": "markdown",
   "metadata": {
    "id": "e5y3h-Dif2e_"
   },
   "source": [
    "2- Fonction de la descente du gradient\n",
    "\n",
    "Cette fonction mettra à jour les paramètres $\\theta_0,\\theta_1$ jusqu'à convergence: atteinte du nombre d'itérations max, ou dérivée assez petite."
   ]
  },
  {
   "cell_type": "code",
   "execution_count": 8,
   "metadata": {
    "id": "7hLdOX_8f2e_",
    "scrolled": false
   },
   "outputs": [],
   "source": [
    "def gradientDescent(X, y, theta, alpha=0.01, iterations=150):\n",
    "    # garder aussi le cout à chaque itération \n",
    "    # pour afficher le coût en fonction de theta0 et theta1\n",
    "    i = 0\n",
    "    \n",
    "    temp_theta = np.zeros((theta.shape))\n",
    "    \n",
    "    couts_history, theta_history = [],[]\n",
    "    \n",
    "    theta1 = theta\n",
    "    \n",
    "    while (iterations>i):\n",
    "        \n",
    "        tab_h = X.dot(theta1)\n",
    "        \n",
    "        tab_h = tab_h.reshape(len(y))\n",
    "       \n",
    "        temp_theta[0] = theta1[0] - alpha*(((tab_h - y).sum())/len(y))\n",
    "        \n",
    "        temp_theta[1] = theta1[1] - alpha*((((tab_h - y)*X[:,1]).sum())/(len(y)))\n",
    "        \n",
    "        \"\"\"if(theta1 == temp_theta).all(): #Arret en cas d'arriver au min \n",
    "            theta1 = temp_theta\n",
    "            break\n",
    "        \"\"\"\n",
    "        theta1 = temp_theta\n",
    "        \n",
    "        \n",
    "        couts_history.append(computeCost(X,y,temp_theta))\n",
    "        \n",
    "        theta_history.append([theta1[0][0],theta1[1][0]])\n",
    "        \n",
    "        i+=1\n",
    "\n",
    "    return theta1, couts_history, theta_history"
   ]
  },
  {
   "cell_type": "markdown",
   "metadata": {
    "id": "Ibj4xistf2e_"
   },
   "source": [
    "# Descente du Gradient : Appel des fonctions"
   ]
  },
  {
   "cell_type": "markdown",
   "metadata": {
    "id": "fndIe1A0f2e_"
   },
   "source": [
    "Initialisation de $\\theta_0$ et $\\theta_1$"
   ]
  },
  {
   "cell_type": "code",
   "execution_count": 9,
   "metadata": {
    "id": "hM0d6keyf2fA"
   },
   "outputs": [],
   "source": [
    "theta = np.array([[-5],[1]]) #theta0 = -1 theta1 = -1 "
   ]
  },
  {
   "cell_type": "markdown",
   "metadata": {},
   "source": [
    "Apres plusieurs tests on a remaquer que avec cette configuration initial de theta on arrive a obtenir des meilleurs resultats"
   ]
  },
  {
   "cell_type": "markdown",
   "metadata": {
    "id": "_QNKuRyMf2fA"
   },
   "source": [
    "Calculer le cout initial"
   ]
  },
  {
   "cell_type": "code",
   "execution_count": 10,
   "metadata": {
    "id": "1k9uq5olf2fA"
   },
   "outputs": [],
   "source": [
    "initialCost=computeCost(X, y, theta)"
   ]
  },
  {
   "cell_type": "markdown",
   "metadata": {
    "id": "oa2KSvlDf2fA"
   },
   "source": [
    "Appel de la fonction de calcul du gradient"
   ]
  },
  {
   "cell_type": "code",
   "execution_count": 11,
   "metadata": {
    "id": "QOAjE5Saf2fA"
   },
   "outputs": [
    {
     "name": "stdout",
     "output_type": "stream",
     "text": [
      "[[-3.96750307]\n",
      " [ 1.20023892]]\n"
     ]
    },
    {
     "data": {
      "text/plain": [
       "[<matplotlib.lines.Line2D at 0x7f30ea1f51d0>]"
      ]
     },
     "execution_count": 11,
     "metadata": {},
     "output_type": "execute_result"
    },
    {
     "data": {
      "image/png": "[encoded data removed]",
      "text/plain": [
       "<Figure size 432x288 with 1 Axes>"
      ]
     },
     "metadata": {
      "needs_background": "light"
     },
     "output_type": "display_data"
    }
   ],
   "source": [
    "# paramètres\n",
    "iterations = 1500;\n",
    "alpha = 0.01;\n",
    "# Appel\n",
    "theta, couts_history, theta_history = gradientDescent(X, y, theta, alpha, iterations);\n",
    "print(theta)\n",
    "plt.plot([i for i in range(len(couts_history))],couts_history)"
   ]
  },
  {
   "cell_type": "markdown",
   "metadata": {
    "id": "19K_Y5kif2fB"
   },
   "source": [
    "Traçage de la fonction du coût"
   ]
  },
  {
   "cell_type": "markdown",
   "metadata": {
    "id": "OSXiphr2f2fB"
   },
   "source": [
    "Notons que $\\theta^T  x$ est équivalent à $X  \\theta $ où $X= \\begin{pmatrix}\n",
    "..(x^{(1)})^T..\\\\\n",
    "..(x^{(2)})^T..\\\\\n",
    ".\\\\\n",
    ".\\\\\n",
    ".\\\\\n",
    "..(x^{(m)})^T..\n",
    "\\end{pmatrix} $"
   ]
  },
  {
   "cell_type": "code",
   "execution_count": 12,
   "metadata": {
    "id": "MkG1iz5qf2fB",
    "outputId": "9c659a66-e423-48f7-ee40-87155019717c"
   },
   "outputs": [
    {
     "data": {
      "text/plain": [
       "[<matplotlib.lines.Line2D at 0x7f30ea21a510>,\n",
       " <matplotlib.lines.Line2D at 0x7f30ea16a510>]"
      ]
     },
     "execution_count": 12,
     "metadata": {},
     "output_type": "execute_result"
    },
    {
     "data": {
      "image/png": "[encoded data removed]",
      "text/plain": [
       "<Figure size 864x576 with 1 Axes>"
      ]
     },
     "metadata": {
      "needs_background": "light"
     },
     "output_type": "display_data"
    }
   ],
   "source": [
    "y_pred=np.matmul(X,theta)\n",
    "plt.figure(figsize=(12,8))\n",
    "plt.scatter(X[:,1],y,marker ='x')\n",
    "plt.xlabel('Population x 1000')\n",
    "plt.ylabel('Chiffre d\\'affaires x1000')\n",
    "plt.plot(X,y_pred)\n",
    "# la ligne du graphe represente le traçage de la fonction hypothèse\n",
    "# la ligne devrait se rapprocher des données après entrainement avec la descente du gredient"
   ]
  },
  {
   "cell_type": "markdown",
   "metadata": {},
   "source": [
    "## Test avec le model Sklearn.SGDRegressor "
   ]
  },
  {
   "cell_type": "code",
   "execution_count": 13,
   "metadata": {},
   "outputs": [
    {
     "data": {
      "text/plain": [
       "array([-1.32211302,  0.96949822])"
      ]
     },
     "execution_count": 13,
     "metadata": {},
     "output_type": "execute_result"
    }
   ],
   "source": [
    "\n",
    "\n",
    "\n",
    "model = SGDRegressor(alpha=0.01,max_iter=1500)\n",
    "model.fit(X,y)\n",
    "model.coef_"
   ]
  },
  {
   "cell_type": "code",
   "execution_count": 14,
   "metadata": {},
   "outputs": [
    {
     "data": {
      "text/plain": [
       "[<matplotlib.lines.Line2D at 0x7f30ea0f9690>,\n",
       " <matplotlib.lines.Line2D at 0x7f30ea0ec790>]"
      ]
     },
     "execution_count": 14,
     "metadata": {},
     "output_type": "execute_result"
    },
    {
     "data": {
      "image/png": "[encoded data removed]",
      "text/plain": [
       "<Figure size 864x576 with 1 Axes>"
      ]
     },
     "metadata": {
      "needs_background": "light"
     },
     "output_type": "display_data"
    }
   ],
   "source": [
    "y_pred=model.predict(X)\n",
    "plt.figure(figsize=(12,8))\n",
    "plt.scatter(X[:,1],y,marker ='x')\n",
    "plt.xlabel('Population x 1000')\n",
    "plt.ylabel('Chiffre d\\'affaires x1000')\n",
    "plt.plot(X,y_pred)\n",
    "# la ligne du graphe represente le traçage de la fonction hypothèse\n",
    "# la ligne devrait se rapprocher des données après entrainement avec la descente du gredient"
   ]
  },
  {
   "cell_type": "markdown",
   "metadata": {
    "id": "ydF1kmH_f2fB"
   },
   "source": [
    "Traçage du coût en fonction de theta0 et theta1"
   ]
  },
  {
   "cell_type": "code",
   "execution_count": 15,
   "metadata": {},
   "outputs": [],
   "source": [
    "x = np.array(theta_history)[:,0]\n",
    "y = np.array(theta_history)[:,1]\n",
    "z = np.array(couts_history).reshape((1500,1))\n",
    "#couts_history"
   ]
  },
  {
   "cell_type": "code",
   "execution_count": 16,
   "metadata": {},
   "outputs": [],
   "source": [
    "%matplotlib inline"
   ]
  },
  {
   "cell_type": "code",
   "execution_count": 17,
   "metadata": {
    "id": "pvs0tWIFf2fB"
   },
   "outputs": [
    {
     "name": "stderr",
     "output_type": "stream",
     "text": [
      "/home/cherif/anaconda3/envs/myenv2/lib/python3.7/site-packages/ipykernel_launcher.py:2: MatplotlibDeprecationWarning: Calling gca() with keyword arguments was deprecated in Matplotlib 3.4. Starting two minor releases later, gca() will take no keyword arguments. The gca() function should only be used to get the current axes, or if no axes exist, create new axes with default keyword arguments. To create a new axes with non-default arguments, use plt.axes() or plt.subplot().\n",
      "  \n"
     ]
    },
    {
     "data": {
      "image/png": "[encoded data removed]",
      "text/plain": [
       "<Figure size 576x576 with 1 Axes>"
      ]
     },
     "metadata": {
      "needs_background": "light"
     },
     "output_type": "display_data"
    }
   ],
   "source": [
    "fig = plt.figure(figsize=(8,8))\n",
    "ax = fig.gca(projection='3d') \n",
    "ax.plot_surface(x, y,z,  linewidth=0) \n",
    "plt.title(\"Cout en fonction de theta0 et theta1\")\n",
    "ax.set_xlabel('theta0')\n",
    "ax.set_ylabel('theta1')\n",
    "ax.set_zlabel('Couts')\n",
    "\n",
    "plt.show()"
   ]
  },
  {
   "cell_type": "markdown",
   "metadata": {
    "id": "2VZ9MGMnf2fC"
   },
   "source": [
    "Prédire des valeurs de y"
   ]
  },
  {
   "cell_type": "code",
   "execution_count": 18,
   "metadata": {
    "id": "2vaMZaA0f2fC",
    "outputId": "07c3ca20-2552-4fa5-85c4-8051bed5510a"
   },
   "outputs": [
    {
     "data": {
      "text/plain": [
       "array([0.23333314])"
      ]
     },
     "execution_count": 18,
     "metadata": {},
     "output_type": "execute_result"
    }
   ],
   "source": [
    "# Predire pour une opulation = 35,000 et 70,000\n",
    "predict1 = np.matmul([1, 3.5],theta);\n",
    "predict1"
   ]
  },
  {
   "cell_type": "code",
   "execution_count": 19,
   "metadata": {
    "id": "1rQhJ7bEf2fC",
    "outputId": "808f885f-a159-40b3-bc98-19ac1276c00f"
   },
   "outputs": [
    {
     "data": {
      "text/plain": [
       "array([4.43416935])"
      ]
     },
     "execution_count": 19,
     "metadata": {},
     "output_type": "execute_result"
    }
   ],
   "source": [
    "predict2 = np.matmul([1, 7],theta);\n",
    "predict2"
   ]
  },
  {
   "cell_type": "markdown",
   "metadata": {
    "id": "_nksg6iNf2fC"
   },
   "source": [
    "# Régression linéaire à plusieurs variables"
   ]
  },
  {
   "cell_type": "markdown",
   "metadata": {
    "id": "_8j0lTWkf2fC"
   },
   "source": [
    "Proposer, l'aide des fonctions définies precedemment, une regression linéaire lorsque le nombre de descripeurs est supérieur à 1, en utilisant la base d'apprentissage suivante"
   ]
  },
  {
   "cell_type": "code",
   "execution_count": 20,
   "metadata": {
    "id": "kSNx25FIf2fC",
    "outputId": "2015ff14-5c51-4c0c-8e04-42d6807e34ad"
   },
   "outputs": [
    {
     "data": {
      "text/plain": [
       "(46, 3)"
      ]
     },
     "execution_count": 20,
     "metadata": {},
     "output_type": "execute_result"
    }
   ],
   "source": [
    "# données\n",
    "dataMulti = pd.read_csv('dataMulti.csv', delimiter=',')\n",
    "dataMulti.shape"
   ]
  },
  {
   "cell_type": "markdown",
   "metadata": {
    "id": "p0bfXUybf2fD"
   },
   "source": [
    "Pour cette ensemble de données, nous voudrions prédire le prix d'une maison (3ème colonne de dataMulti) à partir de :\n",
    "- sa supérficie (1ère colonne)\n",
    "- son nombre de chambres (2ème colonne)"
   ]
  },
  {
   "cell_type": "code",
   "execution_count": 21,
   "metadata": {
    "id": "3u_rp_3xf2fD"
   },
   "outputs": [],
   "source": [
    "# d'abord créer X et y\n",
    "\n",
    "dataMulti.columns = [\"Supérficie\",\"Nbr chambres\",\"Prix\"]\n",
    "\n",
    "dataMulti.head()\n",
    "\n",
    "df = pd.DataFrame({\"A\":np.ones(dataMulti.shape[0])}) #Ajouter le 1 pour effectuer la multiplication\n",
    "y_multi = dataMulti.get([\"Prix\"])\n",
    "x_multi = pd.concat([df,dataMulti.get([\"Supérficie\",\"Nbr chambres\"])],axis=1)"
   ]
  },
  {
   "cell_type": "code",
   "execution_count": 22,
   "metadata": {
    "scrolled": true
   },
   "outputs": [
    {
     "name": "stdout",
     "output_type": "stream",
     "text": [
      "(46, 3)\n"
     ]
    },
    {
     "data": {
      "text/html": [
       "<div>\n",
       "<style scoped>\n",
       "    .dataframe tbody tr th:only-of-type {\n",
       "        vertical-align: middle;\n",
       "    }\n",
       "\n",
       "    .dataframe tbody tr th {\n",
       "        vertical-align: top;\n",
       "    }\n",
       "\n",
       "    .dataframe thead th {\n",
       "        text-align: right;\n",
       "    }\n",
       "</style>\n",
       "<table border=\"1\" class=\"dataframe\">\n",
       "  <thead>\n",
       "    <tr style=\"text-align: right;\">\n",
       "      <th></th>\n",
       "      <th>A</th>\n",
       "      <th>Supérficie</th>\n",
       "      <th>Nbr chambres</th>\n",
       "    </tr>\n",
       "  </thead>\n",
       "  <tbody>\n",
       "    <tr>\n",
       "      <th>0</th>\n",
       "      <td>1.0</td>\n",
       "      <td>1600</td>\n",
       "      <td>3</td>\n",
       "    </tr>\n",
       "    <tr>\n",
       "      <th>1</th>\n",
       "      <td>1.0</td>\n",
       "      <td>2400</td>\n",
       "      <td>3</td>\n",
       "    </tr>\n",
       "    <tr>\n",
       "      <th>2</th>\n",
       "      <td>1.0</td>\n",
       "      <td>1416</td>\n",
       "      <td>2</td>\n",
       "    </tr>\n",
       "    <tr>\n",
       "      <th>3</th>\n",
       "      <td>1.0</td>\n",
       "      <td>3000</td>\n",
       "      <td>4</td>\n",
       "    </tr>\n",
       "    <tr>\n",
       "      <th>4</th>\n",
       "      <td>1.0</td>\n",
       "      <td>1985</td>\n",
       "      <td>4</td>\n",
       "    </tr>\n",
       "  </tbody>\n",
       "</table>\n",
       "</div>"
      ],
      "text/plain": [
       "     A  Supérficie  Nbr chambres\n",
       "0  1.0        1600             3\n",
       "1  1.0        2400             3\n",
       "2  1.0        1416             2\n",
       "3  1.0        3000             4\n",
       "4  1.0        1985             4"
      ]
     },
     "execution_count": 22,
     "metadata": {},
     "output_type": "execute_result"
    }
   ],
   "source": [
    "print(x_multi.shape)\n",
    "x_multi.head() #afficher les 5 1eres lignes"
   ]
  },
  {
   "cell_type": "code",
   "execution_count": 23,
   "metadata": {},
   "outputs": [
    {
     "name": "stdout",
     "output_type": "stream",
     "text": [
      "(46, 1)\n"
     ]
    },
    {
     "data": {
      "text/html": [
       "<div>\n",
       "<style scoped>\n",
       "    .dataframe tbody tr th:only-of-type {\n",
       "        vertical-align: middle;\n",
       "    }\n",
       "\n",
       "    .dataframe tbody tr th {\n",
       "        vertical-align: top;\n",
       "    }\n",
       "\n",
       "    .dataframe thead th {\n",
       "        text-align: right;\n",
       "    }\n",
       "</style>\n",
       "<table border=\"1\" class=\"dataframe\">\n",
       "  <thead>\n",
       "    <tr style=\"text-align: right;\">\n",
       "      <th></th>\n",
       "      <th>Prix</th>\n",
       "    </tr>\n",
       "  </thead>\n",
       "  <tbody>\n",
       "    <tr>\n",
       "      <th>0</th>\n",
       "      <td>329900.0</td>\n",
       "    </tr>\n",
       "    <tr>\n",
       "      <th>1</th>\n",
       "      <td>369000.0</td>\n",
       "    </tr>\n",
       "    <tr>\n",
       "      <th>2</th>\n",
       "      <td>232000.0</td>\n",
       "    </tr>\n",
       "    <tr>\n",
       "      <th>3</th>\n",
       "      <td>539900.0</td>\n",
       "    </tr>\n",
       "    <tr>\n",
       "      <th>4</th>\n",
       "      <td>299900.0</td>\n",
       "    </tr>\n",
       "  </tbody>\n",
       "</table>\n",
       "</div>"
      ],
      "text/plain": [
       "       Prix\n",
       "0  329900.0\n",
       "1  369000.0\n",
       "2  232000.0\n",
       "3  539900.0\n",
       "4  299900.0"
      ]
     },
     "execution_count": 23,
     "metadata": {},
     "output_type": "execute_result"
    }
   ],
   "source": [
    "print(y_multi.shape)\n",
    "y_multi.head() #afficher les 5 1eres lignes"
   ]
  },
  {
   "cell_type": "markdown",
   "metadata": {
    "id": "cSKcjaI_f2fD"
   },
   "source": [
    "### redéfinissez vos fonctions de coût si cela est necessaire\n"
   ]
  },
  {
   "cell_type": "code",
   "execution_count": 24,
   "metadata": {},
   "outputs": [],
   "source": [
    "def Hypothes_multi(x,theta):\n",
    "    return x.dot(theta)"
   ]
  },
  {
   "cell_type": "code",
   "execution_count": 25,
   "metadata": {},
   "outputs": [
    {
     "data": {
      "text/plain": [
       "array([6.52792288e+10])"
      ]
     },
     "execution_count": 25,
     "metadata": {},
     "output_type": "execute_result"
    }
   ],
   "source": [
    "def coutFn(X,y,theta):\n",
    "    \n",
    "    somme = 0\n",
    "    \n",
    "    h = 0\n",
    "    for i in range(len(X)):\n",
    "        \n",
    "        for j in range(theta.shape[0]):\n",
    "            \n",
    "            h += theta[j,0]*X[i,j] \n",
    "            \n",
    "        somme += (h - y[i])**2\n",
    "        \n",
    "        h = 0\n",
    "    \n",
    "    return (somme)/(2*len(X))\n",
    "\n",
    "theta_ = np.zeros((3,1))\n",
    "coutFn(x_multi.to_numpy(),y_multi.to_numpy(),theta_)\n"
   ]
  },
  {
   "cell_type": "markdown",
   "metadata": {
    "id": "NdJaM9m_f2fD"
   },
   "source": [
    "Mise à l'échelle des données"
   ]
  },
  {
   "cell_type": "code",
   "execution_count": 26,
   "metadata": {
    "id": "H0H2WkGif2fD"
   },
   "outputs": [
    {
     "name": "stdout",
     "output_type": "stream",
     "text": [
      "(46, 3)\n"
     ]
    }
   ],
   "source": [
    "#def normalisation(dataframe):\n",
    "x_multi_normal = pd.DataFrame(columns=[\"A\",\"Supérficie\",\"Nbr chambres\"])\n",
    "y_multi_normal = pd.DataFrame(columns=[\"Prix\"])\n",
    "x_multi_normal[\"A\"] = x_multi[\"A\"]\n",
    "x_multi_normal[\"Supérficie\"] =  (x_multi[\"Supérficie\"] - (max(x_multi[\"Supérficie\"])//2)) / max(x_multi[\"Supérficie\"])\n",
    "x_multi_normal[\"Nbr chambres\"] = (x_multi[\"Nbr chambres\"] - (max(x_multi[\"Nbr chambres\"])//2)) / max(x_multi[\"Nbr chambres\"])\n",
    "\n",
    "y_multi_normal[\"Prix\"] = (y_multi[\"Prix\"] - (max(y_multi[\"Prix\"])//2)) / max(y_multi[\"Prix\"])\n",
    "\n",
    "print(x_multi_normal.shape)"
   ]
  },
  {
   "cell_type": "markdown",
   "metadata": {
    "id": "DBcDA_DCf2fD"
   },
   "source": [
    "Normalisation des données en moyenne = 0"
   ]
  },
  {
   "cell_type": "code",
   "execution_count": 27,
   "metadata": {
    "id": "OyCIvOb1f2fD",
    "scrolled": true
   },
   "outputs": [
    {
     "data": {
      "text/html": [
       "<div>\n",
       "<style scoped>\n",
       "    .dataframe tbody tr th:only-of-type {\n",
       "        vertical-align: middle;\n",
       "    }\n",
       "\n",
       "    .dataframe tbody tr th {\n",
       "        vertical-align: top;\n",
       "    }\n",
       "\n",
       "    .dataframe thead th {\n",
       "        text-align: right;\n",
       "    }\n",
       "</style>\n",
       "<table border=\"1\" class=\"dataframe\">\n",
       "  <thead>\n",
       "    <tr style=\"text-align: right;\">\n",
       "      <th></th>\n",
       "      <th>A</th>\n",
       "      <th>Supérficie</th>\n",
       "      <th>Nbr chambres</th>\n",
       "    </tr>\n",
       "  </thead>\n",
       "  <tbody>\n",
       "    <tr>\n",
       "      <th>0</th>\n",
       "      <td>1.0</td>\n",
       "      <td>-0.142698</td>\n",
       "      <td>0.2</td>\n",
       "    </tr>\n",
       "    <tr>\n",
       "      <th>1</th>\n",
       "      <td>1.0</td>\n",
       "      <td>0.035954</td>\n",
       "      <td>0.2</td>\n",
       "    </tr>\n",
       "    <tr>\n",
       "      <th>2</th>\n",
       "      <td>1.0</td>\n",
       "      <td>-0.183787</td>\n",
       "      <td>0.0</td>\n",
       "    </tr>\n",
       "    <tr>\n",
       "      <th>3</th>\n",
       "      <td>1.0</td>\n",
       "      <td>0.169942</td>\n",
       "      <td>0.4</td>\n",
       "    </tr>\n",
       "    <tr>\n",
       "      <th>4</th>\n",
       "      <td>1.0</td>\n",
       "      <td>-0.056722</td>\n",
       "      <td>0.4</td>\n",
       "    </tr>\n",
       "  </tbody>\n",
       "</table>\n",
       "</div>"
      ],
      "text/plain": [
       "     A  Supérficie  Nbr chambres\n",
       "0  1.0   -0.142698           0.2\n",
       "1  1.0    0.035954           0.2\n",
       "2  1.0   -0.183787           0.0\n",
       "3  1.0    0.169942           0.4\n",
       "4  1.0   -0.056722           0.4"
      ]
     },
     "execution_count": 27,
     "metadata": {},
     "output_type": "execute_result"
    }
   ],
   "source": [
    "x_multi_normal.head()"
   ]
  },
  {
   "cell_type": "code",
   "execution_count": 28,
   "metadata": {},
   "outputs": [
    {
     "data": {
      "text/html": [
       "<div>\n",
       "<style scoped>\n",
       "    .dataframe tbody tr th:only-of-type {\n",
       "        vertical-align: middle;\n",
       "    }\n",
       "\n",
       "    .dataframe tbody tr th {\n",
       "        vertical-align: top;\n",
       "    }\n",
       "\n",
       "    .dataframe thead th {\n",
       "        text-align: right;\n",
       "    }\n",
       "</style>\n",
       "<table border=\"1\" class=\"dataframe\">\n",
       "  <thead>\n",
       "    <tr style=\"text-align: right;\">\n",
       "      <th></th>\n",
       "      <th>Prix</th>\n",
       "    </tr>\n",
       "  </thead>\n",
       "  <tbody>\n",
       "    <tr>\n",
       "      <th>0</th>\n",
       "      <td>-0.028647</td>\n",
       "    </tr>\n",
       "    <tr>\n",
       "      <th>1</th>\n",
       "      <td>0.027218</td>\n",
       "    </tr>\n",
       "    <tr>\n",
       "      <th>2</th>\n",
       "      <td>-0.168524</td>\n",
       "    </tr>\n",
       "    <tr>\n",
       "      <th>3</th>\n",
       "      <td>0.271396</td>\n",
       "    </tr>\n",
       "    <tr>\n",
       "      <th>4</th>\n",
       "      <td>-0.071510</td>\n",
       "    </tr>\n",
       "  </tbody>\n",
       "</table>\n",
       "</div>"
      ],
      "text/plain": [
       "       Prix\n",
       "0 -0.028647\n",
       "1  0.027218\n",
       "2 -0.168524\n",
       "3  0.271396\n",
       "4 -0.071510"
      ]
     },
     "execution_count": 28,
     "metadata": {},
     "output_type": "execute_result"
    }
   ],
   "source": [
    "y_multi_normal.head()"
   ]
  },
  {
   "cell_type": "markdown",
   "metadata": {
    "id": "vpQf_JxEf2fD"
   },
   "source": [
    "Appliquer la descente du gradient à plusieurs variables"
   ]
  },
  {
   "cell_type": "code",
   "execution_count": 29,
   "metadata": {
    "id": "WLfWC_WIf2fE"
   },
   "outputs": [],
   "source": [
    "def gradientDescentMulti(X, y, theta, alpha=0.01, iterations=1500):\n",
    "    \n",
    "    temp_theta = np.zeros(theta.shape,dtype=np.double)\n",
    "    \n",
    "    couts_history, theta_history = [],[]\n",
    "    \n",
    "    theta1 = theta\n",
    "    \n",
    "    for i in range(iterations):\n",
    "        \n",
    "        tab_h = X.dot(theta1)\n",
    "        \n",
    "        tab_h = tab_h.reshape(len(y))\n",
    "        \n",
    "        temp =  (tab_h - y)\n",
    "        for j in range(theta.shape[0]):\n",
    "            \n",
    "            temp_theta[j] = theta1[j] - alpha*(((temp*X[:,j]).sum())/(len(y)))\n",
    "        \"\"\"\n",
    "        if(theta1 == temp_theta).all(): #Arret en cas d'arriver au min \n",
    "            theta1 = temp_theta\n",
    "            break\n",
    "        \"\"\"\n",
    "        theta1 = temp_theta\n",
    "        \n",
    "        couts_history.append(coutFn(X,y,temp_theta))\n",
    "        \n",
    "        theta_history.append(theta1)\n",
    "        \n",
    "        \n",
    "\n",
    "    return theta1, couts_history, theta_history\n",
    "\n",
    "\n"
   ]
  },
  {
   "cell_type": "markdown",
   "metadata": {
    "id": "Kad6xSS4f2fE"
   },
   "source": [
    "Comparer la descente du gradient avec et sans normalisation\n",
    "- **Exemple**: voir la difference dans le temps de calcul"
   ]
  },
  {
   "cell_type": "markdown",
   "metadata": {},
   "source": [
    "- avec les donnees originales"
   ]
  },
  {
   "cell_type": "code",
   "execution_count": 30,
   "metadata": {
    "id": "KVKREJTZf2fE"
   },
   "outputs": [
    {
     "name": "stderr",
     "output_type": "stream",
     "text": [
      "/home/cherif/anaconda3/envs/myenv2/lib/python3.7/site-packages/ipykernel_launcher.py:12: RuntimeWarning: overflow encountered in square\n",
      "  if sys.path[0] == '':\n",
      "/home/cherif/anaconda3/envs/myenv2/lib/python3.7/site-packages/numpy/core/_methods.py:48: RuntimeWarning: overflow encountered in reduce\n",
      "  return umr_sum(a, axis, dtype, out, keepdims, initial, where)\n",
      "/home/cherif/anaconda3/envs/myenv2/lib/python3.7/site-packages/ipykernel_launcher.py:18: RuntimeWarning: invalid value encountered in subtract\n"
     ]
    },
    {
     "name": "stdout",
     "output_type": "stream",
     "text": [
      "Temps dexecution sans remise a l'echelle: 0.574700117111206\n"
     ]
    },
    {
     "data": {
      "text/plain": [
       "Text(0, 0.5, 'Le couts')"
      ]
     },
     "execution_count": 30,
     "metadata": {},
     "output_type": "execute_result"
    },
    {
     "data": {
      "image/png": "[encoded data removed]",
      "text/plain": [
       "<Figure size 432x288 with 1 Axes>"
      ]
     },
     "metadata": {
      "needs_background": "light"
     },
     "output_type": "display_data"
    }
   ],
   "source": [
    "debut1 = time.time()\n",
    "theta_1,couts_h1,theta_h1 = gradientDescentMulti(x_multi.to_numpy(),y_multi.to_numpy(),theta_)\n",
    "fin1 = time.time()\n",
    "print(\"Temps dexecution sans remise a l'echelle:\",(fin1-debut1))\n",
    "plt.plot(couts_h1)\n",
    "plt.xlabel(\"Iteration\")\n",
    "plt.ylabel(\"Le couts\")"
   ]
  },
  {
   "cell_type": "markdown",
   "metadata": {},
   "source": [
    "- Avec les donnees mises a l'echelles -1< x < 1 . (moyenne == 0) "
   ]
  },
  {
   "cell_type": "code",
   "execution_count": 31,
   "metadata": {},
   "outputs": [
    {
     "name": "stdout",
     "output_type": "stream",
     "text": [
      "Temps dexecution avec remise a l'echelle: 0.4912073612213135\n"
     ]
    },
    {
     "data": {
      "text/plain": [
       "Text(0, 0.5, 'Le couts')"
      ]
     },
     "execution_count": 31,
     "metadata": {},
     "output_type": "execute_result"
    },
    {
     "data": {
      "image/png": "[encoded data removed]",
      "text/plain": [
       "<Figure size 432x288 with 1 Axes>"
      ]
     },
     "metadata": {
      "needs_background": "light"
     },
     "output_type": "display_data"
    }
   ],
   "source": [
    "debut2 = time.time()\n",
    "theta_2,couts_h2,theta_h2 = gradientDescentMulti(x_multi_normal.to_numpy(),y_multi_normal.to_numpy(),theta_)\n",
    "fin2 = time.time()\n",
    "print(\"Temps dexecution avec remise a l'echelle:\",(fin2-debut2))\n",
    "plt.plot(couts_h2)\n",
    "plt.xlabel(\"Iteration\")\n",
    "plt.ylabel(\"Le couts\")"
   ]
  },
  {
   "cell_type": "markdown",
   "metadata": {},
   "source": [
    "On remaque que dans notre cas que l'algoritheme du gradient converge vers le cout minimume avec des donnees mises a l'echelle\n"
   ]
  },
  {
   "cell_type": "markdown",
   "metadata": {
    "id": "r9NX3t8wf2fE"
   },
   "source": [
    "# Vérification de l'implementation\n",
    "Comparer vos algorithmes à ceux de scikitlearn"
   ]
  },
  {
   "cell_type": "code",
   "execution_count": null,
   "metadata": {
    "id": "Cb34UwI9f2fE"
   },
   "outputs": [],
   "source": []
  },
  {
   "cell_type": "markdown",
   "metadata": {
    "id": "myj4lVHTf2fE"
   },
   "source": [
    "# Renforcement d'apprentissage\n",
    "Mettre ici toute idée qui pourrait renforcer votre apprentissage"
   ]
  },
  {
   "cell_type": "markdown",
   "metadata": {
    "id": "nyk59F2Lf2fE"
   },
   "source": [
    "- Le dataset et tres petit on doit avoir plus de donnees\n",
    "- Ajouter d'autre caracteristique "
   ]
  },
  {
   "cell_type": "markdown",
   "metadata": {
    "id": "4GkBHwqHf2fE"
   },
   "source": [
    "# Consignes"
   ]
  },
  {
   "cell_type": "markdown",
   "metadata": {
    "id": "6OLr8Sc6f2fE"
   },
   "source": [
    "Le travail est à remettre par groupe de 4 au maximum [1..4].\n",
    "\n",
    "Le délai est le vendredi 18 Mars 2022 à 22h\n"
   ]
  },
  {
   "cell_type": "markdown",
   "metadata": {
    "id": "xJNAftmjf2fF"
   },
   "source": [
    "# bonne chance"
   ]
  }
 ],
 "metadata": {
  "colab": {
   "name": "TP 2 Descente du gradient.ipynb",
   "provenance": []
  },
  "kernelspec": {
   "display_name": "Python 3 (ipykernel)",
   "language": "python",
   "name": "python3"
  },
  "language_info": {
   "codemirror_mode": {
    "name": "ipython",
    "version": 3
   },
   "file_extension": ".py",
   "mimetype": "text/x-python",
   "name": "python",
   "nbconvert_exporter": "python",
   "pygments_lexer": "ipython3",
   "version": "3.7.11"
  }
 },
 "nbformat": 4,
 "nbformat_minor": 1
}

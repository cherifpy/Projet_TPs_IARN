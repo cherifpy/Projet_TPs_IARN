{
 "cells": [
  {
   "cell_type": "markdown",
   "metadata": {},
   "source": [
    "# TP 5 Réseaux de neurones - Multi classification et Propagation en avant\n",
    "Dans ce TP, nous aimerions faire une classification multiclasse. Pour ce faire, nous allons comparer entre une classification utilisant la regression logistique, et une classification en utilisant les réseaux de neurones.\n",
    "\n",
    "L'ensemble de données que nous allons utiliser est le même que celui utilisé durant le TP1, i.e. les images de chiffres manuscrits.\n"
   ]
  },
  {
   "cell_type": "markdown",
   "metadata": {},
   "source": [
    "# Importation des librairies necessaires au travail"
   ]
  },
  {
   "cell_type": "code",
   "execution_count": 1,
   "metadata": {},
   "outputs": [],
   "source": [
    "import numpy as np\n",
    "import matplotlib.pyplot as plt\n",
    "from numpy import random\n",
    "import cv2 "
   ]
  },
  {
   "cell_type": "markdown",
   "metadata": {},
   "source": [
    "# Lecture des fichiers de données\n",
    "Pour ce TP, nous allons lire les données à partir d'un fichier csv."
   ]
  },
  {
   "cell_type": "code",
   "execution_count": 53,
   "metadata": {},
   "outputs": [
    {
     "data": {
      "text/plain": [
       "array([ 0.0000e+00,  0.0000e+00,  0.0000e+00,  0.0000e+00,  0.0000e+00,\n",
       "        0.0000e+00,  0.0000e+00,  0.0000e+00,  0.0000e+00,  0.0000e+00,\n",
       "        0.0000e+00,  0.0000e+00,  0.0000e+00,  0.0000e+00,  0.0000e+00,\n",
       "        0.0000e+00,  0.0000e+00,  0.0000e+00,  0.0000e+00,  0.0000e+00,\n",
       "        0.0000e+00,  0.0000e+00,  0.0000e+00,  0.0000e+00,  0.0000e+00,\n",
       "        0.0000e+00,  0.0000e+00,  0.0000e+00,  0.0000e+00,  0.0000e+00,\n",
       "        0.0000e+00,  0.0000e+00,  0.0000e+00,  0.0000e+00,  0.0000e+00,\n",
       "        0.0000e+00,  0.0000e+00,  0.0000e+00,  0.0000e+00,  0.0000e+00,\n",
       "        0.0000e+00,  0.0000e+00,  0.0000e+00,  0.0000e+00,  0.0000e+00,\n",
       "        0.0000e+00,  0.0000e+00,  0.0000e+00,  0.0000e+00,  0.0000e+00,\n",
       "        0.0000e+00,  0.0000e+00,  0.0000e+00,  0.0000e+00,  0.0000e+00,\n",
       "        0.0000e+00,  0.0000e+00,  0.0000e+00,  0.0000e+00,  0.0000e+00,\n",
       "        0.0000e+00,  0.0000e+00,  0.0000e+00,  0.0000e+00,  0.0000e+00,\n",
       "        0.0000e+00,  0.0000e+00,  0.0000e+00,  0.0000e+00,  0.0000e+00,\n",
       "        1.5556e-19,  7.5061e-05, -6.9162e-04, -3.6780e-03, -3.6029e-03,\n",
       "       -3.7166e-03, -2.3828e-03, -9.5084e-05,  2.9616e-05,  0.0000e+00,\n",
       "        0.0000e+00,  0.0000e+00,  0.0000e+00,  0.0000e+00,  0.0000e+00,\n",
       "        0.0000e+00,  0.0000e+00,  0.0000e+00,  2.4632e-04, -3.0389e-03,\n",
       "       -1.6079e-02, -3.2959e-02, -2.8752e-02,  7.9907e-03,  7.0833e-03,\n",
       "        8.4616e-03, -8.4812e-03, -4.1003e-03,  4.0373e-04,  0.0000e+00,\n",
       "        0.0000e+00,  0.0000e+00,  0.0000e+00,  0.0000e+00,  0.0000e+00,\n",
       "        0.0000e+00,  2.1276e-05,  1.0255e-03, -1.2374e-02, -1.2774e-02,\n",
       "        8.9787e-02,  2.2277e-01,  3.5311e-01,  6.8453e-01,  6.7882e-01,\n",
       "        6.8675e-01,  5.4106e-01,  4.9500e-02, -8.9401e-03,  0.0000e+00,\n",
       "        0.0000e+00,  0.0000e+00,  0.0000e+00,  1.6340e-05,  4.2347e-04,\n",
       "       -6.2764e-03, -1.9255e-02, -3.1636e-02,  9.2503e-02,  4.6876e-01,\n",
       "        7.8629e-01,  9.9511e-01,  1.0520e+00,  9.7708e-01,  9.4777e-01,\n",
       "        9.9293e-01,  1.0465e+00,  1.4738e-01, -2.1366e-02,  0.0000e+00,\n",
       "        0.0000e+00,  0.0000e+00,  5.8579e-05, -2.1646e-04, -9.8431e-03,\n",
       "        1.6342e-02,  1.1923e-01,  1.5923e-01,  6.7956e-01,  1.0453e+00,\n",
       "        9.8967e-01,  8.1265e-01,  4.8974e-01,  2.1379e-01,  8.6164e-02,\n",
       "        4.3644e-01,  1.0080e+00,  1.4745e-01, -2.0764e-02,  0.0000e+00,\n",
       "        0.0000e+00,  4.0339e-05,  2.7868e-04, -1.0476e-02,  4.3998e-03,\n",
       "        5.3000e-01,  9.7424e-01,  9.9845e-01,  1.0194e+00,  8.0373e-01,\n",
       "        3.2015e-01, -1.2060e-02, -1.7312e-02, -2.0832e-02, -3.2277e-02,\n",
       "        4.3071e-01,  1.0216e+00,  1.4702e-01, -2.0836e-02,  0.0000e+00,\n",
       "        0.0000e+00,  2.4391e-04, -2.1139e-02,  1.3655e-01,  6.8059e-01,\n",
       "        9.9993e-01,  1.0243e+00,  1.0135e+00,  6.0935e-01,  6.9716e-02,\n",
       "       -1.1998e-02, -2.6661e-03, -2.4770e-04, -6.3820e-03,  3.9266e-02,\n",
       "        8.7988e-01,  1.0258e+00,  1.4008e-01, -2.0509e-02,  0.0000e+00,\n",
       "        0.0000e+00, -1.0512e-02,  5.2739e-02,  6.7754e-01,  1.0205e+00,\n",
       "        9.9051e-01,  6.4410e-01,  3.4410e-01,  2.4191e-02, -2.3688e-02,\n",
       "       -1.8036e-03,  4.3372e-04, -1.0500e-03, -3.6735e-02,  2.5694e-01,\n",
       "        1.0129e+00,  5.4416e-01,  5.0505e-03, -5.4473e-03,  0.0000e+00,\n",
       "        0.0000e+00, -1.3841e-02,  7.8337e-02,  8.2629e-01,  1.0176e+00,\n",
       "        4.9927e-01,  2.1147e-02, -3.2818e-02, -4.3196e-03,  4.6237e-04,\n",
       "        3.4552e-05, -5.5025e-03, -1.0129e-02,  1.9430e-01,  7.7144e-01,\n",
       "        7.8337e-01,  1.1859e-01, -2.1436e-02,  3.8450e-04,  0.0000e+00,\n",
       "        0.0000e+00, -4.3421e-03, -5.1719e-03,  5.1496e-01,  9.7678e-01,\n",
       "        8.9290e-02, -2.1236e-02,  1.2692e-03,  1.3452e-05,  9.5675e-04,\n",
       "       -1.1125e-02, -3.0028e-02,  2.5305e-01,  8.0317e-01,  9.8857e-01,\n",
       "        3.0498e-01, -2.9688e-02,  9.0798e-04,  0.0000e+00,  0.0000e+00,\n",
       "        0.0000e+00, -6.8900e-03,  1.5504e-02,  6.1238e-01,  1.0288e+00,\n",
       "        4.4492e-01, -4.4180e-02, -4.0657e-02, -3.8273e-02, -4.9857e-02,\n",
       "        6.0864e-02,  4.6558e-01,  9.2970e-01,  9.0449e-01,  4.0585e-01,\n",
       "       -1.7556e-02, -2.1714e-03,  9.7835e-05,  0.0000e+00,  0.0000e+00,\n",
       "        0.0000e+00, -1.0544e-03, -2.4651e-02,  3.1086e-01,  9.6503e-01,\n",
       "        9.3300e-01,  6.5528e-01,  6.3120e-01,  6.3494e-01,  6.2477e-01,\n",
       "        7.5847e-01,  1.0431e+00,  7.9236e-01,  1.7722e-01, -4.6823e-03,\n",
       "       -5.3493e-03,  1.7489e-04,  0.0000e+00,  0.0000e+00,  0.0000e+00,\n",
       "        0.0000e+00,  1.6850e-04, -4.6159e-03, -3.0756e-05,  4.0306e-01,\n",
       "        7.2143e-01,  8.6148e-01,  9.4254e-01,  9.3600e-01,  9.3185e-01,\n",
       "        7.9109e-01,  4.9711e-01,  1.0150e-01, -2.7995e-02, -3.9060e-03,\n",
       "        5.7904e-04,  0.0000e+00,  0.0000e+00,  0.0000e+00,  0.0000e+00,\n",
       "        0.0000e+00,  0.0000e+00,  3.2530e-04, -1.5721e-03, -2.7831e-02,\n",
       "       -4.2940e-02,  1.3201e-01,  2.3821e-01,  2.2801e-01,  2.2249e-01,\n",
       "        2.2770e-02, -3.6212e-02, -9.1067e-03,  1.6110e-04,  2.6808e-05,\n",
       "        0.0000e+00,  0.0000e+00,  0.0000e+00,  0.0000e+00,  0.0000e+00,\n",
       "        0.0000e+00,  0.0000e+00,  0.0000e+00,  0.0000e+00,  1.6877e-04,\n",
       "       -2.8535e-06, -1.8486e-02, -2.9769e-02, -2.8693e-02, -2.8101e-02,\n",
       "       -6.9960e-03,  5.0141e-04,  0.0000e+00,  0.0000e+00,  0.0000e+00,\n",
       "        0.0000e+00,  0.0000e+00,  0.0000e+00,  0.0000e+00,  0.0000e+00,\n",
       "        0.0000e+00,  0.0000e+00,  0.0000e+00,  0.0000e+00,  0.0000e+00,\n",
       "        0.0000e+00,  0.0000e+00,  0.0000e+00,  0.0000e+00,  0.0000e+00,\n",
       "        0.0000e+00,  0.0000e+00,  0.0000e+00,  0.0000e+00,  0.0000e+00,\n",
       "        0.0000e+00,  0.0000e+00,  0.0000e+00,  0.0000e+00,  0.0000e+00,\n",
       "        0.0000e+00,  0.0000e+00,  0.0000e+00,  0.0000e+00,  0.0000e+00,\n",
       "        0.0000e+00,  0.0000e+00,  0.0000e+00,  0.0000e+00,  0.0000e+00,\n",
       "        0.0000e+00,  0.0000e+00,  0.0000e+00,  0.0000e+00,  0.0000e+00,\n",
       "        0.0000e+00,  0.0000e+00,  0.0000e+00,  0.0000e+00,  0.0000e+00,\n",
       "        0.0000e+00])"
      ]
     },
     "execution_count": 53,
     "metadata": {},
     "output_type": "execute_result"
    }
   ],
   "source": [
    "# données\n",
    "data = np.genfromtxt('data.csv', delimiter=',', dtype=float)\n",
    "data.shape\n",
    "data[:][400]"
   ]
  },
  {
   "cell_type": "markdown",
   "metadata": {},
   "source": [
    "Dans ces données (data), les 400 premières colonnes representent les pixels de l'image (20x20), la dernière colonne represente la classe de l'image (chiffres de 0 à 9). (http://yann.lecun.com/exdb/mnist/)\n",
    "\n",
    "Chaque ligne represente un exemple de notre ensemble de données. \n",
    "\n",
    "Mettons ces données dans leus vecteurs correspondants."
   ]
  },
  {
   "cell_type": "code",
   "execution_count": 55,
   "metadata": {},
   "outputs": [],
   "source": [
    "# rajoutons l'ordonnée à l'origine theta 0\n",
    "intercept=np.ones((data.shape[0],1))\n",
    "X=np.column_stack((intercept,data[:,:-1]))\n",
    "y=data[:,-1]\n",
    "# forcer y à avoir une seule colonne\n",
    "y = y.reshape( y.shape[0], 1)"
   ]
  },
  {
   "cell_type": "code",
   "execution_count": 56,
   "metadata": {},
   "outputs": [
    {
     "name": "stdout",
     "output_type": "stream",
     "text": [
      "X (5000, 401)  y  (5000, 1)\n"
     ]
    },
    {
     "data": {
      "text/plain": [
       "array([[0.],\n",
       "       [0.],\n",
       "       [0.],\n",
       "       ...,\n",
       "       [9.],\n",
       "       [9.],\n",
       "       [9.]])"
      ]
     },
     "execution_count": 56,
     "metadata": {},
     "output_type": "execute_result"
    }
   ],
   "source": [
    "print('X', X.shape ,' y ', y.shape)\n",
    "y[:]"
   ]
  },
  {
   "cell_type": "markdown",
   "metadata": {},
   "source": [
    "Visualisation aléatoire de quelques données"
   ]
  },
  {
   "cell_type": "code",
   "execution_count": 5,
   "metadata": {},
   "outputs": [
    {
     "data": {
      "image/png": "[encoded data removed]",
      "text/plain": [
       "<Figure size 1080x576 with 13 Axes>"
      ]
     },
     "metadata": {
      "needs_background": "light"
     },
     "output_type": "display_data"
    }
   ],
   "source": [
    "plt.figure(figsize=(15,8))\n",
    "for i in range(13):\n",
    "    c = random.randint(X.shape[0])\n",
    "    a = X[c,1:].reshape((20, 20))\n",
    "    a=np.transpose(a)\n",
    "    plt.subplot(1,13,i+1)\n",
    "    plt.title('label '+ str(y[c]))\n",
    "    plt.imshow(a,cmap='gray')"
   ]
  },
  {
   "cell_type": "markdown",
   "metadata": {},
   "source": [
    "# Partie 1, régression logistique\n",
    "Dans cette partie, nous aimerions utiliser la régression logistique pour classifier nos images\n",
    "\n",
    "Rappelons que la régression logistique nous donne la probabilité d'appartenance (oui ou non) à la classe 1 (elle permet une classification binaire).\n",
    "\n",
    "Pour étendre la régression logistique à une multi-classification, nous allons utiliser une stratégie 1 contre tous.\n",
    "\n",
    "Nous paramètres $\\theta$ seront donc une matrice avec un nombre de lignes égale au nombre de classes, et avec un nombre de colones égale au nombre decaractéristiques (chaque ligne de la matrice $\\theta$ correspond aux paramètres d'un classifieur."
   ]
  },
  {
   "cell_type": "code",
   "execution_count": 6,
   "metadata": {},
   "outputs": [],
   "source": [
    "\n",
    "\n",
    "def lrCostFunction (X, y, initial_theta, alpha=0.001, MaxIter=15000,lambdaa=1):\n",
    "    # dans cette fonction vous devez appliquer la regression logistique avec tout ce que ceci implique\n",
    "    # calcul du coût, minimisation du coût avec descente du gradient, et retour des paramètres theta pour une classe\n",
    "    i = 0\n",
    "    temp_theta = np.zeros((initial_theta.shape))\n",
    "    couts_history, theta_history = [],[]\n",
    "    theta1 = initial_theta\n",
    "    \n",
    "    while (MaxIter>i):\n",
    "        \n",
    "        tab_h = 1/(1 + np.exp(- (theta1.transpose().dot(X.transpose())))) #calculer \n",
    "        \n",
    "        tab_h = tab_h.reshape(len(y))\n",
    "       \n",
    "        for j in range(len(initial_theta)):\n",
    "            \n",
    "            temp_theta[j] = theta1[j] - alpha*(((((tab_h - y)*X[:,j]).sum())/(len(y))) + ((lambdaa/len(y)*theta1[j])))\n",
    "            \n",
    "        theta1 = temp_theta\n",
    "        \n",
    "        #K = np.dot(X,theta1)\n",
    "        \n",
    "        #h = 1/(1+np.exp(-K))\n",
    "        \n",
    "        #cout = -1/X.shape[0] * ((y*np.log(h)).sum() + ((1-y)*np.log(1-h)).sum()) + (lambdaa/(2*X.shape[0]))*np.power(theta1,2).sum()\n",
    "        \n",
    "        #couts_history.append(cout)\n",
    "        \n",
    "        theta_history.append(theta1)\n",
    "        \n",
    "        i+=1\n",
    "            \n",
    "        \n",
    "    return theta1,theta_history,couts_history\n",
    "\n",
    "def Sigmoid_(X,theta):\n",
    "    K = np.dot(X,theta)\n",
    "    H = 1/(1+np.exp(-K))\n",
    "    return H\n",
    "def lrCostFunction_ (X, y, initial_theta, alpha, MaxIter,lambda_):\n",
    "    # dans cette fonction vous devez appliquer la regression logistique avec tout ce que ceci implique\n",
    "    # calcul du coût, minimisation du coût avec descente du gradient, et retour des paramètres theta pour une classe\n",
    "    theta = initial_theta\n",
    "    for i in range(MaxIter):\n",
    "        theta = np.subtract(theta*(1-alpha*lambda_/X.shape[0]), alpha/X.shape[0]*np.sum(np.dot(np.transpose(X), Sigmoid_(X,theta)- y),axis=1).reshape(-1,1))\n",
    "    return theta\n"
   ]
  },
  {
   "cell_type": "code",
   "execution_count": 15,
   "metadata": {},
   "outputs": [],
   "source": [
    "def Hypothese(theta,X):\n",
    "    K = np.dot(X,theta)\n",
    "        \n",
    "    return 1/(1+np.exp(-K))\n",
    "    "
   ]
  },
  {
   "cell_type": "code",
   "execution_count": 18,
   "metadata": {},
   "outputs": [],
   "source": [
    "def predictOneVsAll (all_theta, X):\n",
    "    # ici en utilisant les paramètres calculés par la régression logisitique, \n",
    "    # nous aiemrions retourner les etiquettes predites\n",
    "    \n",
    "    # Ici chaque classifieur retournera de probabilité, il faudra choisir \n",
    "    # la probabilité maximale \n",
    "    # de tous les classifieurs d'une exemple donné\n",
    "    # répeter pour tous les exmemples\n",
    "    \n",
    "    max_pred = 0.\n",
    "    y_pred = -1\n",
    "    for i in range(all_theta.shape[0]):\n",
    "        pred = Hypothese(all_theta[i],X)\n",
    "        if max_pred <= pred : \n",
    "            max_pred = pred\n",
    "            y_pred = i\n",
    "        \n",
    "    return y_pred"
   ]
  },
  {
   "cell_type": "code",
   "execution_count": 19,
   "metadata": {},
   "outputs": [
    {
     "data": {
      "text/plain": [
       "10"
      ]
     },
     "execution_count": 19,
     "metadata": {},
     "output_type": "execute_result"
    }
   ],
   "source": [
    "classes= np.unique(y)\n",
    "number_classes=classes.shape[0]\n",
    "all_theta = np.zeros((number_classes, X.shape[1]));\n",
    "all_theta.shape[0]\n"
   ]
  },
  {
   "cell_type": "code",
   "execution_count": 12,
   "metadata": {},
   "outputs": [],
   "source": [
    "MaxIter= 10000\n",
    "lambda_ = 1\n",
    "alpha = 0.6\n",
    "# initial_theta pour chaque classifieur\n",
    "initial_theta=np.zeros((X.shape[1], 1));\n",
    "for i in range (number_classes):\n",
    "    # appel pour chaque classifieur\n",
    "    theta= lrCostFunction_(X,(y==classes[i]).astype(int),initial_theta,alpha, MaxIter,lambda_);\n",
    "    all_theta[i,:]=theta.reshape((401));                      "
   ]
  },
  {
   "cell_type": "code",
   "execution_count": 60,
   "metadata": {},
   "outputs": [
    {
     "name": "stdout",
     "output_type": "stream",
     "text": [
      "9\n",
      "[1.]\n"
     ]
    }
   ],
   "source": [
    "y_pred = predictOneVsAll(all_theta, X[500]);\n",
    "\n",
    "print(y_pred)\n",
    "print(y[500])"
   ]
  },
  {
   "cell_type": "markdown",
   "metadata": {},
   "source": [
    "# Qualité du classifieur RL\n",
    "\n",
    "Prédire des valeurs de y\n",
    "\n",
    "Ici il serait interessant de calculer la précision de notre classifieur\n",
    "\n",
    "Essayons de calculer ça avec \n",
    "\n",
    "moyenne(y==y-pred) * 100\n",
    "\n",
    "Ceci donnera un pourcentage de precision"
   ]
  },
  {
   "cell_type": "code",
   "execution_count": 57,
   "metadata": {},
   "outputs": [
    {
     "data": {
      "text/plain": [
       "10.0"
      ]
     },
     "execution_count": 57,
     "metadata": {},
     "output_type": "execute_result"
    }
   ],
   "source": [
    "precision = np.mean(y==y_pred)*100\n",
    "precision\n"
   ]
  },
  {
   "cell_type": "markdown",
   "metadata": {},
   "source": [
    "# Partie 2: Réseaux de neurones\n",
    "Pour cette partie, nous choisissons une réseau simple:\n",
    "\n",
    "- une couche d'entrée avec 400 noeuds (20 x 20 pixels) + le biais\n",
    "- une couche cachée avec 25 noeuds\n",
    "- une couche de sortie avec 10 noeuds (nombre de classes)"
   ]
  },
  {
   "cell_type": "code",
   "execution_count": 40,
   "metadata": {},
   "outputs": [
    {
     "data": {
      "text/plain": [
       "(25, 401)"
      ]
     },
     "execution_count": 40,
     "metadata": {},
     "output_type": "execute_result"
    }
   ],
   "source": [
    "# poids de la couche 1\n",
    "W1 = np.genfromtxt('W1.csv', delimiter=',', dtype=float)\n",
    "W1.shape\n"
   ]
  },
  {
   "cell_type": "code",
   "execution_count": 41,
   "metadata": {},
   "outputs": [
    {
     "data": {
      "text/plain": [
       "(10, 26)"
      ]
     },
     "execution_count": 41,
     "metadata": {},
     "output_type": "execute_result"
    }
   ],
   "source": [
    "# poids de la couche 2\n",
    "W2 = np.genfromtxt('W2.csv', delimiter=',', dtype=float)\n",
    "W2.shape"
   ]
  },
  {
   "cell_type": "code",
   "execution_count": 38,
   "metadata": {},
   "outputs": [],
   "source": [
    "input_layer_size  = 400;  \n",
    "hidden_layer_size = 25;   \n",
    "num_labels = 10;"
   ]
  },
  {
   "cell_type": "markdown",
   "metadata": {},
   "source": [
    "**Prédiction**\n",
    "\n",
    "Appliquer une propagation en avant en utilisant les paramètres données pour prédir les classes de l'ensemble d'apprentissage.\n",
    "\n"
   ]
  },
  {
   "cell_type": "code",
   "execution_count": null,
   "metadata": {},
   "outputs": [],
   "source": [
    "def predict (W1, W2, X):\n",
    "    \n",
    "    # appliquer une propagation en avant\n",
    "    # !--- n'oubliez pas d'appliquer la sigmoid à chaque couche afin d'avoir les probabilités ---!\n",
    "    \n",
    "    # prédire la classe en choisissant la probabilité maximale parmi les 10 noeuds de sortie\n",
    "    return y_pred"
   ]
  },
  {
   "cell_type": "code",
   "execution_count": 78,
   "metadata": {},
   "outputs": [],
   "source": [
    "# calcul de precision = nombre de valeurs bien prédites (ici sur toute la base X)\n",
    "y_pred=predict(X)\n",
    "precision = np.mean(y==y_pred)*100\n",
    "precision"
   ]
  },
  {
   "cell_type": "markdown",
   "metadata": {},
   "source": [
    "# Vérification de l'implementation\n",
    "Comparer vos algorithmes à ceux de scikitlearn"
   ]
  },
  {
   "cell_type": "code",
   "execution_count": null,
   "metadata": {},
   "outputs": [],
   "source": []
  },
  {
   "cell_type": "markdown",
   "metadata": {},
   "source": [
    "# Renforcement d'apprentissage\n",
    "Mettre ici toute idée qui pourrait renforcer votre apprentissage"
   ]
  },
  {
   "cell_type": "code",
   "execution_count": null,
   "metadata": {},
   "outputs": [],
   "source": []
  },
  {
   "cell_type": "markdown",
   "metadata": {},
   "source": [
    "# Consignes"
   ]
  },
  {
   "cell_type": "markdown",
   "metadata": {},
   "source": [
    "Le travail est à remettre par groupe de 4 au maximum [1..4].\n",
    "\n",
    "Le délai est le vendredi 22 Avril 2022 à 22h\n"
   ]
  },
  {
   "cell_type": "code",
   "execution_count": null,
   "metadata": {},
   "outputs": [],
   "source": [
    "# bonne chance"
   ]
  }
 ],
 "metadata": {
  "kernelspec": {
   "display_name": "Python 3 (ipykernel)",
   "language": "python",
   "name": "python3"
  },
  "language_info": {
   "codemirror_mode": {
    "name": "ipython",
    "version": 3
   },
   "file_extension": ".py",
   "mimetype": "text/x-python",
   "name": "python",
   "nbconvert_exporter": "python",
   "pygments_lexer": "ipython3",
   "version": "3.7.11"
  }
 },
 "nbformat": 4,
 "nbformat_minor": 2
}

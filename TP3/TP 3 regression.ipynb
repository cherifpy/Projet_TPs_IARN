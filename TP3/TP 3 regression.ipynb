{
 "cells": [
  {
   "cell_type": "markdown",
   "metadata": {},
   "source": [
    "# TP 3 Regression linéaire\n",
    "Dans ce TP, nous aimerions prédire l'admission d'un étudiant à une specialité donnée selon ses notes dans deux matières.\n",
    "\n",
    "Pour ce faire, nous étudierons un ensemble de données avec l'admission  (y) et les notes des deux modules (X).\n",
    "\n",
    "La prédiction se fera avec l'agorithme de descente du gradient."
   ]
  },
  {
   "cell_type": "markdown",
   "metadata": {},
   "source": [

   ]
  },
  {
   "cell_type": "markdown",
   "metadata": {},
   "source": [
    "# Importation des librairies necessaires au travail"
   ]
  },
  {
   "cell_type": "code",
   "execution_count": 1,
   "metadata": {},
   "outputs": [],
   "source": [
    "import numpy as np #facilite la manipulaion des tableaux\n",
    "import matplotlib.pyplot as plt #afficher les grphes\n",
    "import math #utliser les fonctionnes mathematique\n",
    "import time #Calculer le temps d'execution "
   ]
  },
  {
   "cell_type": "markdown",
   "metadata": {},
   "source": [
    "# Lecture des fichiers de données\n",
    "Pour ce TP, nous allons lire les données à partir d'un fichier csv."
   ]
  },
  {
   "cell_type": "code",
   "execution_count": 2,
   "metadata": {},
   "outputs": [
    {
     "name": "stdout",
     "output_type": "stream",
     "text": [
      "Taille: (100, 3)\n",
      "[[ 6.9247 15.605   0.    ]\n",
      " [ 6.0573  8.779   0.    ]\n",
      " [ 7.1695 14.58    0.    ]\n",
      " [12.037  17.262   1.    ]\n",
      " [15.807  15.069   1.    ]]\n"
     ]
    }
   ],
   "source": [
    "# données\n",
    "data = np.genfromtxt('data.csv', delimiter=',')\n",
    "print(\"Taille:\",data.shape) #Afficher les dimensions du datasets\n",
    "print(data[:5]) #afficher un échantillon du dataset pour mieux connaitre les donnees manipulées "
   ]
  },
  {
   "cell_type": "markdown",
   "metadata": {},
   "source": [
    "Dans ces données (data), la première colonne represente la première note, la deuxieme colonne la deuxième note et la troisième colonne represente l'admission à la specialité (1 admis 0 non admis).\n",
    "\n",
    "Chaque ligne represente un exemple de notre ensemble de données. \n",
    "\n",
    "Mettons ces données dans leus vecteurs correspondants."
   ]
  },
  {
   "cell_type": "code",
   "execution_count": 3,
   "metadata": {},
   "outputs": [
    {
     "name": "stdout",
     "output_type": "stream",
     "text": [
      "[[ 1.      6.9247 15.605 ]\n",
      " [ 1.      6.0573  8.779 ]\n",
      " [ 1.      7.1695 14.58  ]\n",
      " [ 1.     12.037  17.262 ]\n",
      " [ 1.     15.807  15.069 ]]\n"
     ]
    }
   ],
   "source": [
    "# rajoutons l'ordonnée à l'origine theta 0\n",
    "intercept=np.ones((data.shape[0],1))\n",
    "X=np.column_stack((intercept,data[:,0:2]))\n",
    "y = data[:, 2];\n",
    "print(X[:5])"
   ]
  },
  {
   "cell_type": "code",
   "execution_count": 4,
   "metadata": {},
   "outputs": [
    {
     "name": "stdout",
     "output_type": "stream",
     "text": [
      "X (100, 3)  y  (100,)\n",
      "(array([0., 1.]), array([40, 60]))\n"
     ]
    }
   ],
   "source": [
    "print('X', X.shape ,' y ', y.shape)\n",
    "print(np.unique(y, return_counts=True))"
   ]
  },
  {
   "cell_type": "markdown",
   "metadata": {},
   "source": [
    "# Descente du Gradient : Préparation des fonctions"
   ]
  },
  {
   "cell_type": "markdown",
   "metadata": {},
   "source": [
    "0- Fonction Logistique (Sigmoid)"
   ]
  },
  {
   "cell_type": "code",
   "execution_count": 5,
   "metadata": {},
   "outputs": [],
   "source": [
    "def Sigmoid(z):\n",
    "    # pour une valeur donnée, cette fonction calculera sa sigmoid\n",
    "    return 1/(1 + math.exp(-z))"
   ]
  },
  {
   "cell_type": "markdown",
   "metadata": {},
   "source": [
    "Graphe de la fonction segmoid"
   ]
  },
  {
   "cell_type": "code",
   "execution_count": 6,
   "metadata": {},
   "outputs": [
    {
     "data": {
      "text/plain": [
       "[<matplotlib.lines.Line2D at 0x7fa934055410>]"
      ]
     },
     "execution_count": 6,
     "metadata": {},
     "output_type": "execute_result"
    },
    {
     "data": {
      "image/png": "[encoded data removed]",
      "text/plain": [
       "<Figure size 432x288 with 1 Axes>"
      ]
     },
     "metadata": {
      "needs_background": "light"
     },
     "output_type": "display_data"
    }
   ],
   "source": [
    "plt.plot([Sigmoid(i) for i in range(-10,11)])"
   ]
  },
  {
   "cell_type": "markdown",
   "metadata": {},
   "source": [
    "1- Calcul du coût\n",
    "\n",
    "Cette fonction servira à calculer le cout $J(\\theta_0,\\theta_1)$\n",
    "\n",
    "Elle prendra l'ensemble de données d'apprentissage en entrée ainsi que les paramètres définis initialement"
   ]
  },
  {
   "cell_type": "markdown",
   "metadata": {},
   "source": [
    "- fonction hypothese"
   ]
  },
  {
   "cell_type": "code",
   "execution_count": 7,
   "metadata": {},
   "outputs": [],
   "source": [
    "def Hypothese(X,theta):\n",
    "    #En utilisent la fonction Segmoid declare avant \n",
    "    return Sigmoid(theta.transpose().dot(X.reshape(X.shape[0])))"
   ]
  },
  {
   "cell_type": "markdown",
   "metadata": {},
   "source": [
    "- Sans vectorisation"
   ]
  },
  {
   "cell_type": "code",
   "execution_count": 8,
   "metadata": {},
   "outputs": [],
   "source": [
    "def computeCostNonVect(X, y, theta):\n",
    "    somme = 0\n",
    "    \n",
    "    for i in range(X.shape[0]):\n",
    "        \n",
    "        h = Hypothese(X[i],theta)\n",
    "        \n",
    "        somme += (y[i]*math.log(h)) + (1 - y[i])*(math.log(1 - h))\n",
    "        \n",
    "    return - (somme)/(len(X))\n"
   ]
  },
  {
   "cell_type": "markdown",
   "metadata": {},
   "source": [
    "- Avec vectorisation"
   ]
  },
  {
   "cell_type": "code",
   "execution_count": 9,
   "metadata": {},
   "outputs": [],
   "source": [
    "def computeCost(X, y, theta):\n",
    "    \n",
    "    #(y[i]*math.log(h)) + (1 - y[i])*(math.log(1 - h))\n",
    "    theta = theta.transpose()\n",
    "    \n",
    "    tab_h = 1/(1 + np.exp(- (theta.dot(X.transpose())) ))\n",
    "    \n",
    "    tab_h = tab_h.reshape(y.shape[0])\n",
    "    \n",
    "    return -(((y*np.log(tab_h)) + (1 - y)*(np.log(1 - tab_h))).sum()/(len(X)))\n",
    "\n"
   ]
  },
  {
   "cell_type": "markdown",
   "metadata": {},
   "source": [
    "Comparaison du temps d'execution avec et sans vectorisation"
   ]
  },
  {
   "cell_type": "code",
   "execution_count": 10,
   "metadata": {},
   "outputs": [
    {
     "name": "stdout",
     "output_type": "stream",
     "text": [
      "Couts: 0.6931471805599458\n",
      "temps d'execution sans vectorisation:0.0034639835357666016\n",
      "Couts: 0.6931471805599453\n",
      "temps d'execution avec vectorisation:0.002020597457885742\n"
     ]
    }
   ],
   "source": [
    "\n",
    "debut = time.time()\n",
    "print(\"Couts:\",computeCostNonVect(X,y,np.zeros((3,1))))\n",
    "fin = time.time()\n",
    "print(f\"temps d'execution sans vectorisation:{fin-debut}\")\n",
    "\n",
    "debut = time.time()\n",
    "print(\"Couts:\",computeCost(X,y,np.zeros((3,))))\n",
    "fin = time.time()\n",
    "print(f\"temps d'execution avec vectorisation:{fin-debut}\")"
   ]
  },
  {
   "cell_type": "markdown",
   "metadata": {},
   "source": [
    "2- Fonction de la descente du gradient\n",
    "\n",
    "Cette fonction mettra à jour les paramètres $\\theta_0,\\theta_1$ jusqu'à convergence: atteinte du nombre d'itérations max, ou dérivée assez petite."
   ]
  },
  {
   "cell_type": "code",
   "execution_count": 11,
   "metadata": {},
   "outputs": [],
   "source": [
    "def gradientDescent(X, y, theta, alpha=0.01, iterations=150):\n",
    "    # garder aussi le cout à chaque itération \n",
    "    # pour afficher le coût en fonction de theta0 et theta1\n",
    "    i = 0\n",
    "    temp_theta = np.zeros((theta.shape))\n",
    "    couts_history, theta_history = [],[]\n",
    "    theta1 = theta\n",
    "    \n",
    "    while (iterations>i):\n",
    "        \n",
    "        tab_h = 1/(1 + np.exp(- (theta1.transpose().dot(X.transpose())))) #calculer \n",
    "        \n",
    "        tab_h = tab_h.reshape(len(y))\n",
    "       \n",
    "        for j in range(len(theta)):\n",
    "            \n",
    "            temp_theta[j] = theta1[j] - alpha*((((tab_h - y)*X[:,j]).sum())/(len(y)))\n",
    "        \n",
    "        \"\"\"\n",
    "        if(theta1 == temp_theta).all(): #Arret en cas d'arriver au min \n",
    "            theta1 = temp_theta\n",
    "            break\n",
    "        \"\"\"\n",
    "        \"\"\"\n",
    "        lors de l'execution on a remarque que avec la condition d'arret le programme fait au plus 2 iteration sans \n",
    "        converger vers le min \n",
    "        \"\"\"\n",
    "        theta1 = temp_theta\n",
    "        \n",
    "        \n",
    "        couts_history.append(computeCost(X,y,temp_theta))\n",
    "        \n",
    "        theta_history.append([theta1[0][0],theta1[1][0]])\n",
    "        \n",
    "        i+=1\n",
    "    return theta1, couts_history, theta_history\n",
    "\n"
   ]
  },
  {
   "cell_type": "markdown",
   "metadata": {},
   "source": [
    "# Descente du Gradient : Appel des fonctions"
   ]
  },
  {
   "cell_type": "markdown",
   "metadata": {},
   "source": [
    "Initialisation de $\\theta_0$ et $\\theta_1$"
   ]
  },
  {
   "cell_type": "code",
   "execution_count": 12,
   "metadata": {},
   "outputs": [
    {
     "data": {
      "text/plain": [
       "array([[0.],\n",
       "       [0.],\n",
       "       [0.]])"
      ]
     },
     "execution_count": 12,
     "metadata": {},
     "output_type": "execute_result"
    }
   ],
   "source": [
    "n=X.shape[1]\n",
    "theta = np.zeros((n, 1))\n",
    "theta"
   ]
  },
  {
   "cell_type": "markdown",
   "metadata": {},
   "source": [
    "Calculer le cout initial"
   ]
  },
  {
   "cell_type": "code",
   "execution_count": 13,
   "metadata": {},
   "outputs": [
    {
     "name": "stdout",
     "output_type": "stream",
     "text": [
      "(100, 3) (100,) (3, 1)\n",
      "Cout initial:  0.6931471805599453\n"
     ]
    }
   ],
   "source": [
    "print(X.shape,y.shape,theta.shape)\n",
    "initialCost=computeCost(X, y, theta)\n",
    "print(\"Cout initial: \",initialCost)"
   ]
  },
  {
   "cell_type": "markdown",
   "metadata": {},
   "source": [
    "Appel des la fonction de calcul du gradient"
   ]
  },
  {
   "cell_type": "code",
   "execution_count": 14,
   "metadata": {},
   "outputs": [
    {
     "name": "stdout",
     "output_type": "stream",
     "text": [
      "Les parametres obtenus:\n",
      "Theta0:  -21.053658802704106\n",
      "Theta1:  0.8670018277616284\n",
      "Theta2:  0.8410983715600169\n"
     ]
    }
   ],
   "source": [
    "# paramètres\n",
    "iterations = 150000;\n",
    "alpha = 0.02;\n",
    "# Appel\n",
    "theta, couts_history, theta_history = gradientDescent(X, y, theta, alpha, iterations);\n",
    "\n",
    "print(\"Les parametres obtenus:\")\n",
    "print(\"Theta0: \",theta[0,0])\n",
    "print(\"Theta1: \",theta[1,0])\n",
    "print(\"Theta2: \",theta[2,0])"
   ]
  },
  {
   "cell_type": "markdown",
   "metadata": {},
   "source": [
    "Apres plusieurs tests on a pu avoir des dons resultats avec: \n",
    "- Un nombre d'iteration = 150000\n",
    "- Taux d'apprentissage = 0.2"
   ]
  },
  {
   "cell_type": "markdown",
   "metadata": {},
   "source": [
    "Traçage de la fonction du coût"
   ]
  },
  {
   "cell_type": "code",
   "execution_count": 15,
   "metadata": {},
   "outputs": [
    {
     "data": {
      "text/plain": [
       "Text(0, 0.5, 'Couts')"
      ]
     },
     "execution_count": 15,
     "metadata": {},
     "output_type": "execute_result"
    },
    {
     "data": {
      "image/png": "[encoded data removed]",
      "text/plain": [
       "<Figure size 432x288 with 1 Axes>"
      ]
     },
     "metadata": {
      "needs_background": "light"
     },
     "output_type": "display_data"
    }
   ],
   "source": [
    "plt.plot(couts_history)\n",
    "plt.xlabel(\"Iteration\")\n",
    "plt.ylabel(\"Couts\")"
   ]
  },
  {
   "cell_type": "markdown",
   "metadata": {},
   "source": [
    "Notons que $\\theta^T  x$ est équivalent à $X  \\theta $ où $X= \\begin{pmatrix}\n",
    "..(x^{(1)})^T..\\\\\n",
    "..(x^{(2)})^T..\\\\\n",
    ".\\\\\n",
    ".\\\\\n",
    ".\\\\\n",
    "..(x^{(m)})^T..\n",
    "\\end{pmatrix} $"
   ]
  },
  {
   "cell_type": "markdown",
   "metadata": {},
   "source": [
    "# Dessin de la limite de decision (Descision Boundary)\n",
    "Dans cette partie, nous aimerions dessiner la ligne separatrice d nos données"
   ]
  },
  {
   "cell_type": "code",
   "execution_count": 16,
   "metadata": {},
   "outputs": [],
   "source": [
    "def drawLine(X,theta):\n",
    "\n",
    "      return -(theta[0]+X*theta[1])/theta[2]\n",
    "  \n",
    "\n"
   ]
  },
  {
   "cell_type": "markdown",
   "metadata": {},
   "source": [
    "# Affichage \n",
    "Graphe representant les acceptations selon les caracteristiques"
   ]
  },
  {
   "cell_type": "code",
   "execution_count": 17,
   "metadata": {},
   "outputs": [
    {
     "name": "stdout",
     "output_type": "stream",
     "text": [
      "(100, 3)\n"
     ]
    },
    {
     "data": {
      "image/png": "[encoded data removed]",
      "text/plain": [
       "<Figure size 720x576 with 1 Axes>"
      ]
     },
     "metadata": {
      "needs_background": "light"
     },
     "output_type": "display_data"
    }
   ],
   "source": [
    "plt.figure(figsize=(10,8))\n",
    "plt.scatter(X[np.where(y==1),1],X[np.where(y==1),2], label=\"accepte\",marker ='o')\n",
    "plt.scatter(X[np.where(y==0),1],X[np.where(y==0),2], label=\"non accepte\",marker ='x')\n",
    "ligne=drawLine(X,theta)\n",
    "print(ligne.shape)\n",
    "plt.plot(X[:,1],ligne[:,1],label= \"Decesion boundary\",color = \"red\")\n",
    "plt.xlabel('Note module 1')\n",
    "plt.ylabel('Note module 2')\n",
    "plt.legend()\n",
    "plt.show()"
   ]
  },
  {
   "cell_type": "markdown",
   "metadata": {},
   "source": [
    "Traçage du coût en fonction de theta0 et theta1"
   ]
  },
  {
   "cell_type": "code",
   "execution_count": 18,
   "metadata": {},
   "outputs": [
    {
     "data": {
      "text/plain": [
       "<matplotlib.legend.Legend at 0x7fa933f98750>"
      ]
     },
     "execution_count": 18,
     "metadata": {},
     "output_type": "execute_result"
    },
    {
     "data": {
      "image/png": "[encoded data removed]",
      "text/plain": [
       "<Figure size 720x576 with 1 Axes>"
      ]
     },
     "metadata": {
      "needs_background": "light"
     },
     "output_type": "display_data"
    }
   ],
   "source": [
    "from mpl_toolkits.mplot3d import Axes3D\n",
    "from matplotlib import cm\n",
    "from matplotlib.ticker import LinearLocator\n",
    "plt.figure(figsize=(10,8))\n",
    "fig = plt.figure(1)\n",
    "ax = fig.add_subplot(111, projection='3d' )\n",
    "ax.plot(np.array(theta_history)[:,0],np.array(theta_history)[:,1],couts_history, color = \"blue\",label=\"Data\")\n",
    "\n",
    "plt.xlabel(\"Note Module 1\")\n",
    "plt.ylabel(\"Note Module 2\")\n",
    "\n",
    "plt.legend()"
   ]
  },
  {
   "cell_type": "markdown",
   "metadata": {},
   "source": [
    "Prédire des valeurs de y"
   ]
  },
  {
   "cell_type": "code",
   "execution_count": 19,
   "metadata": {},
   "outputs": [
    {
     "name": "stdout",
     "output_type": "stream",
     "text": [
      "L'etudiant qui a eu comme notes : 9  et  17  est à  74.03964187293172 % admis\n",
      "L'etudiant qui a eu comme notes : 9  et  10  est à  0.7847680466568183 % admis\n"
     ]
    }
   ],
   "source": [
    "# Predire pour des notes note1= 9 et note2=17\n",
    "X1=np.array([1,9,17])\n",
    "print(\"L'etudiant qui a eu comme notes :\",X1[1],\" et \",X1[2],\" est à \",Hypothese(X1,theta)*100,\"% admis\")\n",
    "# Predire pour des notes note1= 9 et note2=10\n",
    "X2=np.array([1,9,10])\n",
    "print(\"L'etudiant qui a eu comme notes :\",X2[1],\" et \",X2[2],\" est à \",Hypothese(X2,theta)*100,\"% admis\")"
   ]
  },
  {
   "cell_type": "markdown",
   "metadata": {},
   "source": [
    "# Vérification de l'implementation\n",
    "Comparer vos algorithmes à ceux de scikitlearn"
   ]
  },
  {
   "cell_type": "code",
   "execution_count": 20,
   "metadata": {},
   "outputs": [
    {
     "name": "stdout",
     "output_type": "stream",
     "text": [
      "Avec sklearn:  [-25.134407069384256, 1.030084108773647, 1.0062491009236367]\n",
      "Nos resultats:  [[-21.0536588    0.86700183   0.84109837]]\n"
     ]
    }
   ],
   "source": [
    "from sklearn.linear_model import LogisticRegression\n",
    "\n",
    "model= LogisticRegression(C=1e2).fit(X[:,1:3],y)\n",
    "\n",
    "theta_sk = [model.intercept_[0],model.coef_[0][0],model.coef_[0][1]]\n",
    "\n",
    "print(\"Avec sklearn: \",theta_sk)\n",
    "print(\"Nos resultats: \",theta.transpose())"
   ]
  },
  {
   "cell_type": "code",
   "execution_count": 21,
   "metadata": {},
   "outputs": [
    {
     "name": "stdout",
     "output_type": "stream",
     "text": [
      "L'etudiant qui a eu comme notes : 9  et  17  est à  77.60135852610023 % admis\n",
      "L'etudiant qui a eu comme notes : 9  et  10  est à  0.30149303038223657 % admis\n"
     ]
    }
   ],
   "source": [
    "# Predire pour des notes note1= 9 et note2=17\n",
    "X1=np.array([9,17])\n",
    "print(\"L'etudiant qui a eu comme notes :\",X1[0],\" et \",X1[1],\" est à \",model.predict_proba([X1])[0,1]*100,\"% admis\")\n",
    "# Predire pour des notes note1= 9 et note2=10\n",
    "X2=np.array([9,10])\n",
    "print(\"L'etudiant qui a eu comme notes :\",X2[0],\" et \",X2[1],\" est à \",model.predict_proba([X2])[0,1]*100,\"% admis\")"
   ]
  },
  {
   "cell_type": "code",
   "execution_count": 22,
   "metadata": {},
   "outputs": [
    {
     "name": "stdout",
     "output_type": "stream",
     "text": [
      "(100, 3)\n"
     ]
    },
    {
     "data": {
      "image/png": "[encoded data removed]",
      "text/plain": [
       "<Figure size 720x576 with 1 Axes>"
      ]
     },
     "metadata": {
      "needs_background": "light"
     },
     "output_type": "display_data"
    }
   ],
   "source": [
    "plt.figure(figsize=(10,8))\n",
    "plt.scatter(X[np.where(y==1),1],X[np.where(y==1),2], label=\"accepte\",marker ='o')\n",
    "plt.scatter(X[np.where(y==0),1],X[np.where(y==0),2], label=\"non accepte\",marker ='x')\n",
    "ligne=drawLine(X,theta_sk)\n",
    "print(ligne.shape)\n",
    "plt.plot(X[:,1],ligne[:,1],label= \"Ligne séparatrice\",color = \"red\")\n",
    "plt.xlabel('Note module 1')\n",
    "plt.ylabel('Note module 2')\n",
    "plt.legend()\n",
    "plt.show()"
   ]
  },
  {
   "cell_type": "markdown",
   "metadata": {},
   "source": [
    "Les resultats que on a obtenus sont preseque les memes avec les resultats obtenus en utilisent Sklearn"
   ]
  },
  {
   "cell_type": "markdown",
   "metadata": {},
   "source": [
    "# Consignes"
   ]
  },
  {
   "cell_type": "markdown",
   "metadata": {},
   "source": [
    "Le travail est à remettre par groupe de 4 au maximum [1..4].\n",
    "\n",
    "Le délai est le vendredi 25 Mars 2022 à 22h\n"
   ]
  },
  {
   "cell_type": "code",
   "execution_count": 23,
   "metadata": {},
   "outputs": [],
   "source": [
    "# bonne chance"
   ]
  }
 ],
 "metadata": {
  "kernelspec": {
   "display_name": "Python 3 (ipykernel)",
   "language": "python",
   "name": "python3"
  },
  "language_info": {
   "codemirror_mode": {
    "name": "ipython",
    "version": 3
   },
   "file_extension": ".py",
   "mimetype": "text/x-python",
   "name": "python",
   "nbconvert_exporter": "python",
   "pygments_lexer": "ipython3",
   "version": "3.7.11"
  }
 },
 "nbformat": 4,
 "nbformat_minor": 2
}
